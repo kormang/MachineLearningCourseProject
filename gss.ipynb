{
 "cells": [
  {
   "cell_type": "markdown",
   "metadata": {},
   "source": [
    "#### Описание данных\n",
    "##### Резюме общего социального обследования, 1972-2012 годы\n",
    "\n",
    "С 1972 года Общее социальное исследование (GSS) отслеживает изменения в обществе и изучает растущую сложность американского общества. GSS стремится собирать данные о современном американском обществе для мониторинга и объяснения тенденций и констант в подходах, поведении и атрибутах; изучить структуру и функционирование общества в целом, а также роль соответствующих подгрупп; сравнить Соединенные Штаты с другими обществами, с тем чтобы поставить американское общество в сравнительную перспективу и разработать межнациональные модели человеческого общества; и сделать высококачественные данные доступными для ученых, студентов, политиков и других лиц с минимальными затратами и ожиданиями.\n",
    "\n",
    "Вопросы GSS охватывают широкий круг вопросов, включая приоритеты национальных расходов, использование марихуаны, преступность и наказание, расовые отношения, качество жизни, доверие к учреждениям и сексуальное поведение.\n",
    "\n",
    "Данные состоятся из много переменных, о которых можно больше узнать в файле [gss.html](gss.html)\n",
    "\n",
    "##### Оригинал на английском языке:\n",
    "##### Abstract for the General Social Survey Cumulative File, 1972-2012\n",
    "\n",
    "[Excerpted from the GSS project description]\n",
    "\n",
    "Since 1972, the General Social Survey (GSS) has been monitoring societal change and studying the growing complexity of American society. The GSS aims to gather data on contemporary American society in order to monitor and explain trends and constants in attitudes, behaviors, and attributes; to examine the structure and functioning of society in general as well as the role played by relevant subgroups; to compare the United States to other societies in order to place American society in comparative perspective and develop cross-national models of human society; and to make high-quality data easily accessible to scholars, students, policy makers, and others, with minimal cost and waiting.\n",
    "\n",
    "GSS questions cover a diverse range of issues including national spending priorities, marijuana use, crime and punishment, race relations, quality of life, confidence in institutions, and sexual behavior.\n"
   ]
  },
  {
   "cell_type": "code",
   "execution_count": 47,
   "metadata": {},
   "outputs": [],
   "source": [
    "import numpy as np\n",
    "import matplotlib.pyplot as plt\n",
    "import pandas as pd\n",
    "%matplotlib inline"
   ]
  },
  {
   "cell_type": "code",
   "execution_count": 127,
   "metadata": {},
   "outputs": [],
   "source": [
    "data = pd.read_csv('./gss.csv', engine = 'python')\n",
    "# Сразу бросим порядковые числа в первом столбце\n",
    "data = data.drop(data.columns[0], axis=1)\n",
    "orig_data = data"
   ]
  },
  {
   "cell_type": "code",
   "execution_count": 5,
   "metadata": {},
   "outputs": [
    {
     "data": {
      "text/plain": [
       "pandas.core.frame.DataFrame"
      ]
     },
     "execution_count": 5,
     "metadata": {},
     "output_type": "execute_result"
    }
   ],
   "source": [
    "type(data)"
   ]
  },
  {
   "cell_type": "markdown",
   "metadata": {},
   "source": [
    "Посмотрим как выглядят данные:"
   ]
  },
  {
   "cell_type": "code",
   "execution_count": 16,
   "metadata": {},
   "outputs": [
    {
     "data": {
      "text/html": [
       "<div>\n",
       "<style scoped>\n",
       "    .dataframe tbody tr th:only-of-type {\n",
       "        vertical-align: middle;\n",
       "    }\n",
       "\n",
       "    .dataframe tbody tr th {\n",
       "        vertical-align: top;\n",
       "    }\n",
       "\n",
       "    .dataframe thead th {\n",
       "        text-align: right;\n",
       "    }\n",
       "</style>\n",
       "<table border=\"1\" class=\"dataframe\">\n",
       "  <thead>\n",
       "    <tr style=\"text-align: right;\">\n",
       "      <th></th>\n",
       "      <th>caseid</th>\n",
       "      <th>year</th>\n",
       "      <th>age</th>\n",
       "      <th>sex</th>\n",
       "      <th>race</th>\n",
       "      <th>hispanic</th>\n",
       "      <th>uscitzn</th>\n",
       "      <th>educ</th>\n",
       "      <th>paeduc</th>\n",
       "      <th>maeduc</th>\n",
       "      <th>...</th>\n",
       "      <th>news</th>\n",
       "      <th>tvhours</th>\n",
       "      <th>racdif1</th>\n",
       "      <th>racdif2</th>\n",
       "      <th>racdif3</th>\n",
       "      <th>racdif4</th>\n",
       "      <th>helppoor</th>\n",
       "      <th>helpnot</th>\n",
       "      <th>helpsick</th>\n",
       "      <th>helpblk</th>\n",
       "    </tr>\n",
       "  </thead>\n",
       "  <tbody>\n",
       "    <tr>\n",
       "      <th>0</th>\n",
       "      <td>1</td>\n",
       "      <td>1972</td>\n",
       "      <td>23.0</td>\n",
       "      <td>Female</td>\n",
       "      <td>White</td>\n",
       "      <td>NaN</td>\n",
       "      <td>NaN</td>\n",
       "      <td>16.0</td>\n",
       "      <td>10.0</td>\n",
       "      <td>NaN</td>\n",
       "      <td>...</td>\n",
       "      <td>Everyday</td>\n",
       "      <td>NaN</td>\n",
       "      <td>NaN</td>\n",
       "      <td>NaN</td>\n",
       "      <td>NaN</td>\n",
       "      <td>NaN</td>\n",
       "      <td>NaN</td>\n",
       "      <td>NaN</td>\n",
       "      <td>NaN</td>\n",
       "      <td>NaN</td>\n",
       "    </tr>\n",
       "    <tr>\n",
       "      <th>1</th>\n",
       "      <td>2</td>\n",
       "      <td>1972</td>\n",
       "      <td>70.0</td>\n",
       "      <td>Male</td>\n",
       "      <td>White</td>\n",
       "      <td>NaN</td>\n",
       "      <td>NaN</td>\n",
       "      <td>10.0</td>\n",
       "      <td>8.0</td>\n",
       "      <td>8.0</td>\n",
       "      <td>...</td>\n",
       "      <td>Everyday</td>\n",
       "      <td>NaN</td>\n",
       "      <td>NaN</td>\n",
       "      <td>NaN</td>\n",
       "      <td>NaN</td>\n",
       "      <td>NaN</td>\n",
       "      <td>NaN</td>\n",
       "      <td>NaN</td>\n",
       "      <td>NaN</td>\n",
       "      <td>NaN</td>\n",
       "    </tr>\n",
       "    <tr>\n",
       "      <th>2</th>\n",
       "      <td>3</td>\n",
       "      <td>1972</td>\n",
       "      <td>48.0</td>\n",
       "      <td>Female</td>\n",
       "      <td>White</td>\n",
       "      <td>NaN</td>\n",
       "      <td>NaN</td>\n",
       "      <td>12.0</td>\n",
       "      <td>8.0</td>\n",
       "      <td>8.0</td>\n",
       "      <td>...</td>\n",
       "      <td>Everyday</td>\n",
       "      <td>NaN</td>\n",
       "      <td>NaN</td>\n",
       "      <td>NaN</td>\n",
       "      <td>NaN</td>\n",
       "      <td>NaN</td>\n",
       "      <td>NaN</td>\n",
       "      <td>NaN</td>\n",
       "      <td>NaN</td>\n",
       "      <td>NaN</td>\n",
       "    </tr>\n",
       "    <tr>\n",
       "      <th>3</th>\n",
       "      <td>4</td>\n",
       "      <td>1972</td>\n",
       "      <td>27.0</td>\n",
       "      <td>Female</td>\n",
       "      <td>White</td>\n",
       "      <td>NaN</td>\n",
       "      <td>NaN</td>\n",
       "      <td>17.0</td>\n",
       "      <td>16.0</td>\n",
       "      <td>12.0</td>\n",
       "      <td>...</td>\n",
       "      <td>Once A Week</td>\n",
       "      <td>NaN</td>\n",
       "      <td>NaN</td>\n",
       "      <td>NaN</td>\n",
       "      <td>NaN</td>\n",
       "      <td>NaN</td>\n",
       "      <td>NaN</td>\n",
       "      <td>NaN</td>\n",
       "      <td>NaN</td>\n",
       "      <td>NaN</td>\n",
       "    </tr>\n",
       "    <tr>\n",
       "      <th>4</th>\n",
       "      <td>5</td>\n",
       "      <td>1972</td>\n",
       "      <td>61.0</td>\n",
       "      <td>Female</td>\n",
       "      <td>White</td>\n",
       "      <td>NaN</td>\n",
       "      <td>NaN</td>\n",
       "      <td>12.0</td>\n",
       "      <td>8.0</td>\n",
       "      <td>8.0</td>\n",
       "      <td>...</td>\n",
       "      <td>Everyday</td>\n",
       "      <td>NaN</td>\n",
       "      <td>NaN</td>\n",
       "      <td>NaN</td>\n",
       "      <td>NaN</td>\n",
       "      <td>NaN</td>\n",
       "      <td>NaN</td>\n",
       "      <td>NaN</td>\n",
       "      <td>NaN</td>\n",
       "      <td>NaN</td>\n",
       "    </tr>\n",
       "  </tbody>\n",
       "</table>\n",
       "<p>5 rows × 114 columns</p>\n",
       "</div>"
      ],
      "text/plain": [
       "   caseid  year   age     sex   race hispanic uscitzn  educ  paeduc  maeduc  \\\n",
       "0       1  1972  23.0  Female  White      NaN     NaN  16.0    10.0     NaN   \n",
       "1       2  1972  70.0    Male  White      NaN     NaN  10.0     8.0     8.0   \n",
       "2       3  1972  48.0  Female  White      NaN     NaN  12.0     8.0     8.0   \n",
       "3       4  1972  27.0  Female  White      NaN     NaN  17.0    16.0    12.0   \n",
       "4       5  1972  61.0  Female  White      NaN     NaN  12.0     8.0     8.0   \n",
       "\n",
       "    ...            news tvhours racdif1  racdif2 racdif3 racdif4 helppoor  \\\n",
       "0   ...        Everyday     NaN     NaN      NaN     NaN     NaN      NaN   \n",
       "1   ...        Everyday     NaN     NaN      NaN     NaN     NaN      NaN   \n",
       "2   ...        Everyday     NaN     NaN      NaN     NaN     NaN      NaN   \n",
       "3   ...     Once A Week     NaN     NaN      NaN     NaN     NaN      NaN   \n",
       "4   ...        Everyday     NaN     NaN      NaN     NaN     NaN      NaN   \n",
       "\n",
       "  helpnot  helpsick  helpblk  \n",
       "0     NaN       NaN      NaN  \n",
       "1     NaN       NaN      NaN  \n",
       "2     NaN       NaN      NaN  \n",
       "3     NaN       NaN      NaN  \n",
       "4     NaN       NaN      NaN  \n",
       "\n",
       "[5 rows x 114 columns]"
      ]
     },
     "execution_count": 16,
     "metadata": {},
     "output_type": "execute_result"
    }
   ],
   "source": [
    "data.head()"
   ]
  },
  {
   "cell_type": "code",
   "execution_count": 17,
   "metadata": {},
   "outputs": [
    {
     "data": {
      "text/html": [
       "<div>\n",
       "<style scoped>\n",
       "    .dataframe tbody tr th:only-of-type {\n",
       "        vertical-align: middle;\n",
       "    }\n",
       "\n",
       "    .dataframe tbody tr th {\n",
       "        vertical-align: top;\n",
       "    }\n",
       "\n",
       "    .dataframe thead th {\n",
       "        text-align: right;\n",
       "    }\n",
       "</style>\n",
       "<table border=\"1\" class=\"dataframe\">\n",
       "  <thead>\n",
       "    <tr style=\"text-align: right;\">\n",
       "      <th></th>\n",
       "      <th>caseid</th>\n",
       "      <th>year</th>\n",
       "      <th>age</th>\n",
       "      <th>sex</th>\n",
       "      <th>race</th>\n",
       "      <th>hispanic</th>\n",
       "      <th>uscitzn</th>\n",
       "      <th>educ</th>\n",
       "      <th>paeduc</th>\n",
       "      <th>maeduc</th>\n",
       "      <th>...</th>\n",
       "      <th>news</th>\n",
       "      <th>tvhours</th>\n",
       "      <th>racdif1</th>\n",
       "      <th>racdif2</th>\n",
       "      <th>racdif3</th>\n",
       "      <th>racdif4</th>\n",
       "      <th>helppoor</th>\n",
       "      <th>helpnot</th>\n",
       "      <th>helpsick</th>\n",
       "      <th>helpblk</th>\n",
       "    </tr>\n",
       "  </thead>\n",
       "  <tbody>\n",
       "    <tr>\n",
       "      <th>57056</th>\n",
       "      <td>57057</td>\n",
       "      <td>2012</td>\n",
       "      <td>61.0</td>\n",
       "      <td>Female</td>\n",
       "      <td>Other</td>\n",
       "      <td>Not Hispanic</td>\n",
       "      <td>NaN</td>\n",
       "      <td>16.0</td>\n",
       "      <td>12.0</td>\n",
       "      <td>12.0</td>\n",
       "      <td>...</td>\n",
       "      <td>Few Times A Week</td>\n",
       "      <td>3.0</td>\n",
       "      <td>No</td>\n",
       "      <td>Yes</td>\n",
       "      <td>No</td>\n",
       "      <td>Yes</td>\n",
       "      <td>Agree With Both</td>\n",
       "      <td>Govt Does Too Much</td>\n",
       "      <td>Govt Should Help</td>\n",
       "      <td>No Special Treatment</td>\n",
       "    </tr>\n",
       "    <tr>\n",
       "      <th>57057</th>\n",
       "      <td>57058</td>\n",
       "      <td>2012</td>\n",
       "      <td>53.0</td>\n",
       "      <td>Female</td>\n",
       "      <td>Other</td>\n",
       "      <td>Not Hispanic</td>\n",
       "      <td>NaN</td>\n",
       "      <td>13.0</td>\n",
       "      <td>NaN</td>\n",
       "      <td>12.0</td>\n",
       "      <td>...</td>\n",
       "      <td>NaN</td>\n",
       "      <td>NaN</td>\n",
       "      <td>NaN</td>\n",
       "      <td>NaN</td>\n",
       "      <td>NaN</td>\n",
       "      <td>NaN</td>\n",
       "      <td>Agree With Both</td>\n",
       "      <td>Agree With Both</td>\n",
       "      <td>Govt Should Help</td>\n",
       "      <td>No Special Treatment</td>\n",
       "    </tr>\n",
       "    <tr>\n",
       "      <th>57058</th>\n",
       "      <td>57059</td>\n",
       "      <td>2012</td>\n",
       "      <td>48.0</td>\n",
       "      <td>Male</td>\n",
       "      <td>White</td>\n",
       "      <td>Mexican, Mexican American, Chicano/A</td>\n",
       "      <td>NaN</td>\n",
       "      <td>13.0</td>\n",
       "      <td>12.0</td>\n",
       "      <td>12.0</td>\n",
       "      <td>...</td>\n",
       "      <td>Less Than Once Wk</td>\n",
       "      <td>4.0</td>\n",
       "      <td>No</td>\n",
       "      <td>No</td>\n",
       "      <td>No</td>\n",
       "      <td>Yes</td>\n",
       "      <td>NaN</td>\n",
       "      <td>NaN</td>\n",
       "      <td>NaN</td>\n",
       "      <td>NaN</td>\n",
       "    </tr>\n",
       "    <tr>\n",
       "      <th>57059</th>\n",
       "      <td>57060</td>\n",
       "      <td>2012</td>\n",
       "      <td>37.0</td>\n",
       "      <td>Female</td>\n",
       "      <td>Other</td>\n",
       "      <td>Not Hispanic</td>\n",
       "      <td>NaN</td>\n",
       "      <td>12.0</td>\n",
       "      <td>12.0</td>\n",
       "      <td>NaN</td>\n",
       "      <td>...</td>\n",
       "      <td>Never</td>\n",
       "      <td>4.0</td>\n",
       "      <td>Yes</td>\n",
       "      <td>No</td>\n",
       "      <td>Yes</td>\n",
       "      <td>No</td>\n",
       "      <td>Agree With Both</td>\n",
       "      <td>NaN</td>\n",
       "      <td>Agree With Both</td>\n",
       "      <td>NaN</td>\n",
       "    </tr>\n",
       "    <tr>\n",
       "      <th>57060</th>\n",
       "      <td>57061</td>\n",
       "      <td>2012</td>\n",
       "      <td>22.0</td>\n",
       "      <td>Male</td>\n",
       "      <td>Other</td>\n",
       "      <td>Not Hispanic</td>\n",
       "      <td>NaN</td>\n",
       "      <td>12.0</td>\n",
       "      <td>10.0</td>\n",
       "      <td>12.0</td>\n",
       "      <td>...</td>\n",
       "      <td>NaN</td>\n",
       "      <td>NaN</td>\n",
       "      <td>NaN</td>\n",
       "      <td>NaN</td>\n",
       "      <td>NaN</td>\n",
       "      <td>NaN</td>\n",
       "      <td>NaN</td>\n",
       "      <td>Agree With Both</td>\n",
       "      <td>NaN</td>\n",
       "      <td>NaN</td>\n",
       "    </tr>\n",
       "  </tbody>\n",
       "</table>\n",
       "<p>5 rows × 114 columns</p>\n",
       "</div>"
      ],
      "text/plain": [
       "       caseid  year   age     sex   race  \\\n",
       "57056   57057  2012  61.0  Female  Other   \n",
       "57057   57058  2012  53.0  Female  Other   \n",
       "57058   57059  2012  48.0    Male  White   \n",
       "57059   57060  2012  37.0  Female  Other   \n",
       "57060   57061  2012  22.0    Male  Other   \n",
       "\n",
       "                                   hispanic uscitzn  educ  paeduc  maeduc  \\\n",
       "57056                          Not Hispanic     NaN  16.0    12.0    12.0   \n",
       "57057                          Not Hispanic     NaN  13.0     NaN    12.0   \n",
       "57058  Mexican, Mexican American, Chicano/A     NaN  13.0    12.0    12.0   \n",
       "57059                          Not Hispanic     NaN  12.0    12.0     NaN   \n",
       "57060                          Not Hispanic     NaN  12.0    10.0    12.0   \n",
       "\n",
       "               ...                        news tvhours racdif1  racdif2  \\\n",
       "57056          ...            Few Times A Week     3.0      No      Yes   \n",
       "57057          ...                         NaN     NaN     NaN      NaN   \n",
       "57058          ...           Less Than Once Wk     4.0      No       No   \n",
       "57059          ...                       Never     4.0     Yes       No   \n",
       "57060          ...                         NaN     NaN     NaN      NaN   \n",
       "\n",
       "      racdif3 racdif4         helppoor             helpnot          helpsick  \\\n",
       "57056      No     Yes  Agree With Both  Govt Does Too Much  Govt Should Help   \n",
       "57057     NaN     NaN  Agree With Both     Agree With Both  Govt Should Help   \n",
       "57058      No     Yes              NaN                 NaN               NaN   \n",
       "57059     Yes      No  Agree With Both                 NaN   Agree With Both   \n",
       "57060     NaN     NaN              NaN     Agree With Both               NaN   \n",
       "\n",
       "                    helpblk  \n",
       "57056  No Special Treatment  \n",
       "57057  No Special Treatment  \n",
       "57058                   NaN  \n",
       "57059                   NaN  \n",
       "57060                   NaN  \n",
       "\n",
       "[5 rows x 114 columns]"
      ]
     },
     "execution_count": 17,
     "metadata": {},
     "output_type": "execute_result"
    }
   ],
   "source": [
    "data.tail()"
   ]
  },
  {
   "cell_type": "code",
   "execution_count": 18,
   "metadata": {},
   "outputs": [
    {
     "name": "stdout",
     "output_type": "stream",
     "text": [
      "(57061, 114)\n",
      "Index(['caseid', 'year', 'age', 'sex', 'race', 'hispanic', 'uscitzn', 'educ',\n",
      "       'paeduc', 'maeduc',\n",
      "       ...\n",
      "       'news', 'tvhours', 'racdif1', 'racdif2', 'racdif3', 'racdif4',\n",
      "       'helppoor', 'helpnot', 'helpsick', 'helpblk'],\n",
      "      dtype='object', length=114)\n"
     ]
    }
   ],
   "source": [
    "print(data.shape)\n",
    "print(data.columns)"
   ]
  },
  {
   "cell_type": "code",
   "execution_count": 19,
   "metadata": {},
   "outputs": [
    {
     "data": {
      "text/plain": [
       "RangeIndex(start=0, stop=57061, step=1)"
      ]
     },
     "execution_count": 19,
     "metadata": {},
     "output_type": "execute_result"
    }
   ],
   "source": [
    "data.index"
   ]
  },
  {
   "cell_type": "code",
   "execution_count": 20,
   "metadata": {},
   "outputs": [
    {
     "data": {
      "text/plain": [
       "'High School'"
      ]
     },
     "execution_count": 20,
     "metadata": {},
     "output_type": "execute_result"
    }
   ],
   "source": [
    "data.at[2, 'degree']"
   ]
  },
  {
   "cell_type": "code",
   "execution_count": 21,
   "metadata": {},
   "outputs": [
    {
     "data": {
      "text/plain": [
       "0              Bachelor\n",
       "1        Lt High School\n",
       "2           High School\n",
       "3              Bachelor\n",
       "4           High School\n",
       "5           High School\n",
       "6           High School\n",
       "7              Bachelor\n",
       "8           High School\n",
       "9           High School\n",
       "10          High School\n",
       "11       Lt High School\n",
       "12       Lt High School\n",
       "13       Lt High School\n",
       "14       Lt High School\n",
       "15          High School\n",
       "16          High School\n",
       "17       Lt High School\n",
       "18             Bachelor\n",
       "19          High School\n",
       "20          High School\n",
       "21          High School\n",
       "22          High School\n",
       "23          High School\n",
       "24             Bachelor\n",
       "25          High School\n",
       "26          High School\n",
       "27          High School\n",
       "28          High School\n",
       "29       Lt High School\n",
       "              ...      \n",
       "57031       High School\n",
       "57032       High School\n",
       "57033       High School\n",
       "57034       High School\n",
       "57035       High School\n",
       "57036          Bachelor\n",
       "57037          Bachelor\n",
       "57038          Bachelor\n",
       "57039    Junior College\n",
       "57040    Junior College\n",
       "57041    Junior College\n",
       "57042       High School\n",
       "57043          Bachelor\n",
       "57044          Graduate\n",
       "57045          Graduate\n",
       "57046          Bachelor\n",
       "57047       High School\n",
       "57048       High School\n",
       "57049       High School\n",
       "57050       High School\n",
       "57051          Graduate\n",
       "57052    Lt High School\n",
       "57053    Lt High School\n",
       "57054    Lt High School\n",
       "57055    Lt High School\n",
       "57056          Bachelor\n",
       "57057       High School\n",
       "57058       High School\n",
       "57059       High School\n",
       "57060       High School\n",
       "Name: degree, Length: 57061, dtype: object"
      ]
     },
     "execution_count": 21,
     "metadata": {},
     "output_type": "execute_result"
    }
   ],
   "source": [
    "data['degree']"
   ]
  },
  {
   "cell_type": "code",
   "execution_count": 22,
   "metadata": {},
   "outputs": [
    {
     "data": {
      "text/plain": [
       "'Bachelor'"
      ]
     },
     "execution_count": 22,
     "metadata": {},
     "output_type": "execute_result"
    }
   ],
   "source": [
    "data['degree'][3]"
   ]
  },
  {
   "cell_type": "code",
   "execution_count": 23,
   "metadata": {},
   "outputs": [
    {
     "data": {
      "text/plain": [
       "'float64'"
      ]
     },
     "execution_count": 23,
     "metadata": {},
     "output_type": "execute_result"
    }
   ],
   "source": [
    "data['educ'].dtype.name"
   ]
  },
  {
   "cell_type": "code",
   "execution_count": 24,
   "metadata": {},
   "outputs": [
    {
     "data": {
      "text/plain": [
       "numpy.float64"
      ]
     },
     "execution_count": 24,
     "metadata": {},
     "output_type": "execute_result"
    }
   ],
   "source": [
    "type(data['educ'][3])"
   ]
  },
  {
   "cell_type": "code",
   "execution_count": 15,
   "metadata": {},
   "outputs": [
    {
     "data": {
      "text/plain": [
       "pandas.core.series.Series"
      ]
     },
     "execution_count": 15,
     "metadata": {},
     "output_type": "execute_result"
    }
   ],
   "source": [
    "type(data['degree'])"
   ]
  },
  {
   "cell_type": "code",
   "execution_count": 49,
   "metadata": {},
   "outputs": [
    {
     "data": {
      "text/html": [
       "<div>\n",
       "<style scoped>\n",
       "    .dataframe tbody tr th:only-of-type {\n",
       "        vertical-align: middle;\n",
       "    }\n",
       "\n",
       "    .dataframe tbody tr th {\n",
       "        vertical-align: top;\n",
       "    }\n",
       "\n",
       "    .dataframe thead th {\n",
       "        text-align: right;\n",
       "    }\n",
       "</style>\n",
       "<table border=\"1\" class=\"dataframe\">\n",
       "  <thead>\n",
       "    <tr style=\"text-align: right;\">\n",
       "      <th></th>\n",
       "      <th>degree</th>\n",
       "      <th>educ</th>\n",
       "    </tr>\n",
       "  </thead>\n",
       "  <tbody>\n",
       "    <tr>\n",
       "      <th>0</th>\n",
       "      <td>Bachelor</td>\n",
       "      <td>16.0</td>\n",
       "    </tr>\n",
       "    <tr>\n",
       "      <th>1</th>\n",
       "      <td>Lt High School</td>\n",
       "      <td>10.0</td>\n",
       "    </tr>\n",
       "    <tr>\n",
       "      <th>2</th>\n",
       "      <td>High School</td>\n",
       "      <td>12.0</td>\n",
       "    </tr>\n",
       "    <tr>\n",
       "      <th>3</th>\n",
       "      <td>Bachelor</td>\n",
       "      <td>17.0</td>\n",
       "    </tr>\n",
       "    <tr>\n",
       "      <th>4</th>\n",
       "      <td>High School</td>\n",
       "      <td>12.0</td>\n",
       "    </tr>\n",
       "  </tbody>\n",
       "</table>\n",
       "</div>"
      ],
      "text/plain": [
       "           degree  educ\n",
       "0        Bachelor  16.0\n",
       "1  Lt High School  10.0\n",
       "2     High School  12.0\n",
       "3        Bachelor  17.0\n",
       "4     High School  12.0"
      ]
     },
     "execution_count": 49,
     "metadata": {},
     "output_type": "execute_result"
    }
   ],
   "source": [
    "data[['degree', 'educ']].head()"
   ]
  },
  {
   "cell_type": "markdown",
   "metadata": {},
   "source": [
    "Какое отношение между категориальными и числовыми признаками обозначающими образование?"
   ]
  },
  {
   "cell_type": "code",
   "execution_count": 92,
   "metadata": {},
   "outputs": [
    {
     "name": "stdout",
     "output_type": "stream",
     "text": [
      "Bachelor 16.33975\n",
      "Lt High School 8.814093845630738\n",
      "High School 12.610750410060142\n",
      "Graduate 18.378364389233955\n",
      "Junior College 14.406066536203522\n"
     ]
    }
   ],
   "source": [
    "for name in data['degree'][data['degree'].notna()].unique():\n",
    "    print(name, (data['educ'][data['degree'] == name]).mean())"
   ]
  },
  {
   "cell_type": "markdown",
   "metadata": {},
   "source": [
    "##### Задача\n",
    "\n",
    "Попробуем классифицировать данные в два класса, те кто зарабатывает меньше 50000 долларов в год, и те кто зарабатывает больше. `coninc` обозначает доходы всей семьи в год.\n",
    "\n",
    "Бросим лишние столбцы."
   ]
  },
  {
   "cell_type": "code",
   "execution_count": 93,
   "metadata": {},
   "outputs": [],
   "source": [
    "data = orig_data\n",
    "data = data.drop(['caseid', 'year'], axis=1)\n",
    "data = data.drop(['hispanic', 'degree', 'uscitzn', 'sei', 'income06', 'vetyears', 'region'], axis=1)\n",
    "data = data.drop(['natspac', 'natenvir', 'natheal', 'natcity', 'natcrime', 'natdrug', 'nateduc', 'natrace', 'natarms', 'nataid', 'natfare', 'natroad', 'natsoc', 'natmass', 'natpark'], axis=1)\n",
    "data = data.drop(['confinan', 'conbus', 'conclerg', 'coneduc', 'confed', 'conlabor', 'conpress', 'conmedic', 'contv', 'conjudge', 'consci', 'conlegis', 'conarmy'], axis=1)\n",
    "data = data.drop(['joblose', 'jobfind', 'satjob', 'richwork', 'jobinc', 'jobsec', 'jobhour', 'jobpromo', 'jobmeans', 'satfin', 'finalter'], axis=1)\n",
    "data = data.drop(['finrela', 'unemp', 'govaid', 'getaid', 'union', 'getahead', 'parsol', 'kidssol'], axis=1)\n",
    "data = data.drop(['abdefect', 'abnomore', 'abhlth', 'abpoor', 'abrape', 'absingle', 'abany',], axis=1)\n",
    "data = data.drop(['pillok', 'sexeduc', 'divlaw', 'premarsx', 'teensex', 'xmarsex', 'homosex'], axis=1)\n",
    "data = data.drop(['relig', 'attend'], axis=1)\n",
    "data = data.drop(['suicide1', 'suicide2', 'suicide3', 'suicide4'], axis=1)\n",
    "data = data.drop(['fear', 'owngun', 'pistol', 'shotgun', 'rifle'], axis=1)\n",
    "#data = data.drop(['tvhours', 'news'], axis=1)\n",
    "data = data.drop(['racdif1', 'racdif2', 'racdif3', 'racdif4'], axis=1)\n",
    "data = data.drop(['helppoor', 'helpnot', 'helpsick', 'helpblk'], axis=1)"
   ]
  },
  {
   "cell_type": "markdown",
   "metadata": {},
   "source": [
    "Как теперь выглядят наши данные:"
   ]
  },
  {
   "cell_type": "code",
   "execution_count": 13,
   "metadata": {},
   "outputs": [
    {
     "data": {
      "text/html": [
       "<div>\n",
       "<style scoped>\n",
       "    .dataframe tbody tr th:only-of-type {\n",
       "        vertical-align: middle;\n",
       "    }\n",
       "\n",
       "    .dataframe tbody tr th {\n",
       "        vertical-align: top;\n",
       "    }\n",
       "\n",
       "    .dataframe thead th {\n",
       "        text-align: right;\n",
       "    }\n",
       "</style>\n",
       "<table border=\"1\" class=\"dataframe\">\n",
       "  <thead>\n",
       "    <tr style=\"text-align: right;\">\n",
       "      <th></th>\n",
       "      <th>age</th>\n",
       "      <th>sex</th>\n",
       "      <th>race</th>\n",
       "      <th>educ</th>\n",
       "      <th>paeduc</th>\n",
       "      <th>maeduc</th>\n",
       "      <th>speduc</th>\n",
       "      <th>wrkstat</th>\n",
       "      <th>wrkslf</th>\n",
       "      <th>marital</th>\n",
       "      <th>...</th>\n",
       "      <th>born</th>\n",
       "      <th>parborn</th>\n",
       "      <th>granborn</th>\n",
       "      <th>coninc</th>\n",
       "      <th>partyid</th>\n",
       "      <th>polviews</th>\n",
       "      <th>class</th>\n",
       "      <th>rank</th>\n",
       "      <th>news</th>\n",
       "      <th>tvhours</th>\n",
       "    </tr>\n",
       "  </thead>\n",
       "  <tbody>\n",
       "    <tr>\n",
       "      <th>0</th>\n",
       "      <td>23.0</td>\n",
       "      <td>Female</td>\n",
       "      <td>White</td>\n",
       "      <td>16.0</td>\n",
       "      <td>10.0</td>\n",
       "      <td>NaN</td>\n",
       "      <td>NaN</td>\n",
       "      <td>Working Fulltime</td>\n",
       "      <td>Someone Else</td>\n",
       "      <td>Never Married</td>\n",
       "      <td>...</td>\n",
       "      <td>NaN</td>\n",
       "      <td>NaN</td>\n",
       "      <td>NaN</td>\n",
       "      <td>25926.0</td>\n",
       "      <td>Ind,Near Dem</td>\n",
       "      <td>NaN</td>\n",
       "      <td>Middle Class</td>\n",
       "      <td>NaN</td>\n",
       "      <td>Everyday</td>\n",
       "      <td>NaN</td>\n",
       "    </tr>\n",
       "    <tr>\n",
       "      <th>1</th>\n",
       "      <td>70.0</td>\n",
       "      <td>Male</td>\n",
       "      <td>White</td>\n",
       "      <td>10.0</td>\n",
       "      <td>8.0</td>\n",
       "      <td>8.0</td>\n",
       "      <td>12.0</td>\n",
       "      <td>Retired</td>\n",
       "      <td>Someone Else</td>\n",
       "      <td>Married</td>\n",
       "      <td>...</td>\n",
       "      <td>NaN</td>\n",
       "      <td>NaN</td>\n",
       "      <td>NaN</td>\n",
       "      <td>33333.0</td>\n",
       "      <td>Not Str Democrat</td>\n",
       "      <td>NaN</td>\n",
       "      <td>Middle Class</td>\n",
       "      <td>NaN</td>\n",
       "      <td>Everyday</td>\n",
       "      <td>NaN</td>\n",
       "    </tr>\n",
       "    <tr>\n",
       "      <th>2</th>\n",
       "      <td>48.0</td>\n",
       "      <td>Female</td>\n",
       "      <td>White</td>\n",
       "      <td>12.0</td>\n",
       "      <td>8.0</td>\n",
       "      <td>8.0</td>\n",
       "      <td>11.0</td>\n",
       "      <td>Working Parttime</td>\n",
       "      <td>Someone Else</td>\n",
       "      <td>Married</td>\n",
       "      <td>...</td>\n",
       "      <td>NaN</td>\n",
       "      <td>NaN</td>\n",
       "      <td>NaN</td>\n",
       "      <td>33333.0</td>\n",
       "      <td>Independent</td>\n",
       "      <td>NaN</td>\n",
       "      <td>Working Class</td>\n",
       "      <td>NaN</td>\n",
       "      <td>Everyday</td>\n",
       "      <td>NaN</td>\n",
       "    </tr>\n",
       "    <tr>\n",
       "      <th>3</th>\n",
       "      <td>27.0</td>\n",
       "      <td>Female</td>\n",
       "      <td>White</td>\n",
       "      <td>17.0</td>\n",
       "      <td>16.0</td>\n",
       "      <td>12.0</td>\n",
       "      <td>20.0</td>\n",
       "      <td>Working Fulltime</td>\n",
       "      <td>Someone Else</td>\n",
       "      <td>Married</td>\n",
       "      <td>...</td>\n",
       "      <td>NaN</td>\n",
       "      <td>NaN</td>\n",
       "      <td>NaN</td>\n",
       "      <td>41667.0</td>\n",
       "      <td>Not Str Democrat</td>\n",
       "      <td>NaN</td>\n",
       "      <td>Middle Class</td>\n",
       "      <td>NaN</td>\n",
       "      <td>Once A Week</td>\n",
       "      <td>NaN</td>\n",
       "    </tr>\n",
       "    <tr>\n",
       "      <th>4</th>\n",
       "      <td>61.0</td>\n",
       "      <td>Female</td>\n",
       "      <td>White</td>\n",
       "      <td>12.0</td>\n",
       "      <td>8.0</td>\n",
       "      <td>8.0</td>\n",
       "      <td>12.0</td>\n",
       "      <td>Keeping House</td>\n",
       "      <td>Someone Else</td>\n",
       "      <td>Married</td>\n",
       "      <td>...</td>\n",
       "      <td>NaN</td>\n",
       "      <td>NaN</td>\n",
       "      <td>NaN</td>\n",
       "      <td>69444.0</td>\n",
       "      <td>Strong Democrat</td>\n",
       "      <td>NaN</td>\n",
       "      <td>Working Class</td>\n",
       "      <td>NaN</td>\n",
       "      <td>Everyday</td>\n",
       "      <td>NaN</td>\n",
       "    </tr>\n",
       "  </tbody>\n",
       "</table>\n",
       "<p>5 rows × 25 columns</p>\n",
       "</div>"
      ],
      "text/plain": [
       "    age     sex   race  educ  paeduc  maeduc  speduc           wrkstat  \\\n",
       "0  23.0  Female  White  16.0    10.0     NaN     NaN  Working Fulltime   \n",
       "1  70.0    Male  White  10.0     8.0     8.0    12.0           Retired   \n",
       "2  48.0  Female  White  12.0     8.0     8.0    11.0  Working Parttime   \n",
       "3  27.0  Female  White  17.0    16.0    12.0    20.0  Working Fulltime   \n",
       "4  61.0  Female  White  12.0     8.0     8.0    12.0     Keeping House   \n",
       "\n",
       "         wrkslf        marital   ...   born  parborn  granborn   coninc  \\\n",
       "0  Someone Else  Never Married   ...    NaN      NaN       NaN  25926.0   \n",
       "1  Someone Else        Married   ...    NaN      NaN       NaN  33333.0   \n",
       "2  Someone Else        Married   ...    NaN      NaN       NaN  33333.0   \n",
       "3  Someone Else        Married   ...    NaN      NaN       NaN  41667.0   \n",
       "4  Someone Else        Married   ...    NaN      NaN       NaN  69444.0   \n",
       "\n",
       "            partyid polviews          class  rank         news tvhours  \n",
       "0      Ind,Near Dem      NaN   Middle Class   NaN     Everyday     NaN  \n",
       "1  Not Str Democrat      NaN   Middle Class   NaN     Everyday     NaN  \n",
       "2       Independent      NaN  Working Class   NaN     Everyday     NaN  \n",
       "3  Not Str Democrat      NaN   Middle Class   NaN  Once A Week     NaN  \n",
       "4   Strong Democrat      NaN  Working Class   NaN     Everyday     NaN  \n",
       "\n",
       "[5 rows x 25 columns]"
      ]
     },
     "execution_count": 13,
     "metadata": {},
     "output_type": "execute_result"
    }
   ],
   "source": [
    "data.head()"
   ]
  },
  {
   "cell_type": "code",
   "execution_count": 14,
   "metadata": {},
   "outputs": [
    {
     "data": {
      "text/html": [
       "<div>\n",
       "<style scoped>\n",
       "    .dataframe tbody tr th:only-of-type {\n",
       "        vertical-align: middle;\n",
       "    }\n",
       "\n",
       "    .dataframe tbody tr th {\n",
       "        vertical-align: top;\n",
       "    }\n",
       "\n",
       "    .dataframe thead th {\n",
       "        text-align: right;\n",
       "    }\n",
       "</style>\n",
       "<table border=\"1\" class=\"dataframe\">\n",
       "  <thead>\n",
       "    <tr style=\"text-align: right;\">\n",
       "      <th></th>\n",
       "      <th>age</th>\n",
       "      <th>educ</th>\n",
       "      <th>paeduc</th>\n",
       "      <th>maeduc</th>\n",
       "      <th>speduc</th>\n",
       "      <th>sibs</th>\n",
       "      <th>childs</th>\n",
       "      <th>agekdbrn</th>\n",
       "      <th>granborn</th>\n",
       "      <th>coninc</th>\n",
       "      <th>rank</th>\n",
       "      <th>tvhours</th>\n",
       "    </tr>\n",
       "  </thead>\n",
       "  <tbody>\n",
       "    <tr>\n",
       "      <th>age</th>\n",
       "      <td>1.000000</td>\n",
       "      <td>-0.204311</td>\n",
       "      <td>-0.312058</td>\n",
       "      <td>-0.324715</td>\n",
       "      <td>-0.170690</td>\n",
       "      <td>0.126142</td>\n",
       "      <td>0.360464</td>\n",
       "      <td>0.097563</td>\n",
       "      <td>0.109490</td>\n",
       "      <td>-0.051520</td>\n",
       "      <td>-0.046362</td>\n",
       "      <td>0.094059</td>\n",
       "    </tr>\n",
       "    <tr>\n",
       "      <th>educ</th>\n",
       "      <td>-0.204311</td>\n",
       "      <td>1.000000</td>\n",
       "      <td>0.490471</td>\n",
       "      <td>0.475221</td>\n",
       "      <td>0.632224</td>\n",
       "      <td>-0.308237</td>\n",
       "      <td>-0.251144</td>\n",
       "      <td>0.340486</td>\n",
       "      <td>0.025626</td>\n",
       "      <td>0.397028</td>\n",
       "      <td>-0.231842</td>\n",
       "      <td>-0.228821</td>\n",
       "    </tr>\n",
       "    <tr>\n",
       "      <th>paeduc</th>\n",
       "      <td>-0.312058</td>\n",
       "      <td>0.490471</td>\n",
       "      <td>1.000000</td>\n",
       "      <td>0.686664</td>\n",
       "      <td>0.447697</td>\n",
       "      <td>-0.306335</td>\n",
       "      <td>-0.271118</td>\n",
       "      <td>0.184232</td>\n",
       "      <td>-0.080621</td>\n",
       "      <td>0.236245</td>\n",
       "      <td>-0.185808</td>\n",
       "      <td>-0.133396</td>\n",
       "    </tr>\n",
       "    <tr>\n",
       "      <th>maeduc</th>\n",
       "      <td>-0.324715</td>\n",
       "      <td>0.475221</td>\n",
       "      <td>0.686664</td>\n",
       "      <td>1.000000</td>\n",
       "      <td>0.429771</td>\n",
       "      <td>-0.303662</td>\n",
       "      <td>-0.255953</td>\n",
       "      <td>0.134210</td>\n",
       "      <td>-0.178196</td>\n",
       "      <td>0.222408</td>\n",
       "      <td>-0.166124</td>\n",
       "      <td>-0.125998</td>\n",
       "    </tr>\n",
       "    <tr>\n",
       "      <th>speduc</th>\n",
       "      <td>-0.170690</td>\n",
       "      <td>0.632224</td>\n",
       "      <td>0.447697</td>\n",
       "      <td>0.429771</td>\n",
       "      <td>1.000000</td>\n",
       "      <td>-0.266769</td>\n",
       "      <td>-0.208067</td>\n",
       "      <td>0.303857</td>\n",
       "      <td>0.007972</td>\n",
       "      <td>0.454761</td>\n",
       "      <td>-0.251044</td>\n",
       "      <td>-0.191604</td>\n",
       "    </tr>\n",
       "    <tr>\n",
       "      <th>sibs</th>\n",
       "      <td>0.126142</td>\n",
       "      <td>-0.308237</td>\n",
       "      <td>-0.306335</td>\n",
       "      <td>-0.303662</td>\n",
       "      <td>-0.266769</td>\n",
       "      <td>1.000000</td>\n",
       "      <td>0.196186</td>\n",
       "      <td>-0.139089</td>\n",
       "      <td>0.008558</td>\n",
       "      <td>-0.177086</td>\n",
       "      <td>0.114103</td>\n",
       "      <td>0.072359</td>\n",
       "    </tr>\n",
       "    <tr>\n",
       "      <th>childs</th>\n",
       "      <td>0.360464</td>\n",
       "      <td>-0.251144</td>\n",
       "      <td>-0.271118</td>\n",
       "      <td>-0.255953</td>\n",
       "      <td>-0.208067</td>\n",
       "      <td>0.196186</td>\n",
       "      <td>1.000000</td>\n",
       "      <td>-0.280569</td>\n",
       "      <td>0.016764</td>\n",
       "      <td>-0.027291</td>\n",
       "      <td>0.043152</td>\n",
       "      <td>0.053542</td>\n",
       "    </tr>\n",
       "    <tr>\n",
       "      <th>agekdbrn</th>\n",
       "      <td>0.097563</td>\n",
       "      <td>0.340486</td>\n",
       "      <td>0.184232</td>\n",
       "      <td>0.134210</td>\n",
       "      <td>0.303857</td>\n",
       "      <td>-0.139089</td>\n",
       "      <td>-0.280569</td>\n",
       "      <td>1.000000</td>\n",
       "      <td>0.139718</td>\n",
       "      <td>0.311938</td>\n",
       "      <td>-0.136056</td>\n",
       "      <td>-0.154635</td>\n",
       "    </tr>\n",
       "    <tr>\n",
       "      <th>granborn</th>\n",
       "      <td>0.109490</td>\n",
       "      <td>0.025626</td>\n",
       "      <td>-0.080621</td>\n",
       "      <td>-0.178196</td>\n",
       "      <td>0.007972</td>\n",
       "      <td>0.008558</td>\n",
       "      <td>0.016764</td>\n",
       "      <td>0.139718</td>\n",
       "      <td>1.000000</td>\n",
       "      <td>0.067567</td>\n",
       "      <td>-0.027140</td>\n",
       "      <td>-0.058625</td>\n",
       "    </tr>\n",
       "    <tr>\n",
       "      <th>coninc</th>\n",
       "      <td>-0.051520</td>\n",
       "      <td>0.397028</td>\n",
       "      <td>0.236245</td>\n",
       "      <td>0.222408</td>\n",
       "      <td>0.454761</td>\n",
       "      <td>-0.177086</td>\n",
       "      <td>-0.027291</td>\n",
       "      <td>0.311938</td>\n",
       "      <td>0.067567</td>\n",
       "      <td>1.000000</td>\n",
       "      <td>-0.263406</td>\n",
       "      <td>-0.227127</td>\n",
       "    </tr>\n",
       "    <tr>\n",
       "      <th>rank</th>\n",
       "      <td>-0.046362</td>\n",
       "      <td>-0.231842</td>\n",
       "      <td>-0.185808</td>\n",
       "      <td>-0.166124</td>\n",
       "      <td>-0.251044</td>\n",
       "      <td>0.114103</td>\n",
       "      <td>0.043152</td>\n",
       "      <td>-0.136056</td>\n",
       "      <td>-0.027140</td>\n",
       "      <td>-0.263406</td>\n",
       "      <td>1.000000</td>\n",
       "      <td>0.072514</td>\n",
       "    </tr>\n",
       "    <tr>\n",
       "      <th>tvhours</th>\n",
       "      <td>0.094059</td>\n",
       "      <td>-0.228821</td>\n",
       "      <td>-0.133396</td>\n",
       "      <td>-0.125998</td>\n",
       "      <td>-0.191604</td>\n",
       "      <td>0.072359</td>\n",
       "      <td>0.053542</td>\n",
       "      <td>-0.154635</td>\n",
       "      <td>-0.058625</td>\n",
       "      <td>-0.227127</td>\n",
       "      <td>0.072514</td>\n",
       "      <td>1.000000</td>\n",
       "    </tr>\n",
       "  </tbody>\n",
       "</table>\n",
       "</div>"
      ],
      "text/plain": [
       "               age      educ    paeduc    maeduc    speduc      sibs  \\\n",
       "age       1.000000 -0.204311 -0.312058 -0.324715 -0.170690  0.126142   \n",
       "educ     -0.204311  1.000000  0.490471  0.475221  0.632224 -0.308237   \n",
       "paeduc   -0.312058  0.490471  1.000000  0.686664  0.447697 -0.306335   \n",
       "maeduc   -0.324715  0.475221  0.686664  1.000000  0.429771 -0.303662   \n",
       "speduc   -0.170690  0.632224  0.447697  0.429771  1.000000 -0.266769   \n",
       "sibs      0.126142 -0.308237 -0.306335 -0.303662 -0.266769  1.000000   \n",
       "childs    0.360464 -0.251144 -0.271118 -0.255953 -0.208067  0.196186   \n",
       "agekdbrn  0.097563  0.340486  0.184232  0.134210  0.303857 -0.139089   \n",
       "granborn  0.109490  0.025626 -0.080621 -0.178196  0.007972  0.008558   \n",
       "coninc   -0.051520  0.397028  0.236245  0.222408  0.454761 -0.177086   \n",
       "rank     -0.046362 -0.231842 -0.185808 -0.166124 -0.251044  0.114103   \n",
       "tvhours   0.094059 -0.228821 -0.133396 -0.125998 -0.191604  0.072359   \n",
       "\n",
       "            childs  agekdbrn  granborn    coninc      rank   tvhours  \n",
       "age       0.360464  0.097563  0.109490 -0.051520 -0.046362  0.094059  \n",
       "educ     -0.251144  0.340486  0.025626  0.397028 -0.231842 -0.228821  \n",
       "paeduc   -0.271118  0.184232 -0.080621  0.236245 -0.185808 -0.133396  \n",
       "maeduc   -0.255953  0.134210 -0.178196  0.222408 -0.166124 -0.125998  \n",
       "speduc   -0.208067  0.303857  0.007972  0.454761 -0.251044 -0.191604  \n",
       "sibs      0.196186 -0.139089  0.008558 -0.177086  0.114103  0.072359  \n",
       "childs    1.000000 -0.280569  0.016764 -0.027291  0.043152  0.053542  \n",
       "agekdbrn -0.280569  1.000000  0.139718  0.311938 -0.136056 -0.154635  \n",
       "granborn  0.016764  0.139718  1.000000  0.067567 -0.027140 -0.058625  \n",
       "coninc   -0.027291  0.311938  0.067567  1.000000 -0.263406 -0.227127  \n",
       "rank      0.043152 -0.136056 -0.027140 -0.263406  1.000000  0.072514  \n",
       "tvhours   0.053542 -0.154635 -0.058625 -0.227127  0.072514  1.000000  "
      ]
     },
     "execution_count": 14,
     "metadata": {},
     "output_type": "execute_result"
    }
   ],
   "source": [
    "data.corr()"
   ]
  },
  {
   "cell_type": "markdown",
   "metadata": {},
   "source": [
    "Видно что `coninc` более всего коррелирует с уровнем образования мужа или жены, но в общем нет много корреляции.\n",
    "\n",
    "Построим теперь матрицу рассеивания, включая не все столбцы (долго этого ждать, и невозможно всё нарисовать), а только те которые интересные и хорошо коррелируют с `coninc`."
   ]
  },
  {
   "cell_type": "code",
   "execution_count": 19,
   "metadata": {},
   "outputs": [
    {
     "name": "stderr",
     "output_type": "stream",
     "text": [
      "/Users/marko/anaconda3/lib/python3.6/site-packages/ipykernel_launcher.py:2: FutureWarning: 'pandas.tools.plotting.scatter_matrix' is deprecated, import 'pandas.plotting.scatter_matrix' instead.\n",
      "  \n"
     ]
    },
    {
     "data": {
      "image/png": "[encoded data removed]",
      "text/plain": [
       "<Figure size 720x720 with 36 Axes>"
      ]
     },
     "metadata": {},
     "output_type": "display_data"
    }
   ],
   "source": [
    "from pandas.tools.plotting import scatter_matrix\n",
    "scatter_matrix(data[[\"coninc\", \"age\", \"speduc\", \"educ\", \"agekdbrn\", \"tvhours\"]], alpha = .01, figsize = (10, 10))\n",
    "pass"
   ]
  },
  {
   "cell_type": "markdown",
   "metadata": {},
   "source": [
    "Посмотрим статистические данные:"
   ]
  },
  {
   "cell_type": "code",
   "execution_count": 67,
   "metadata": {},
   "outputs": [
    {
     "data": {
      "text/html": [
       "<div>\n",
       "<style scoped>\n",
       "    .dataframe tbody tr th:only-of-type {\n",
       "        vertical-align: middle;\n",
       "    }\n",
       "\n",
       "    .dataframe tbody tr th {\n",
       "        vertical-align: top;\n",
       "    }\n",
       "\n",
       "    .dataframe thead th {\n",
       "        text-align: right;\n",
       "    }\n",
       "</style>\n",
       "<table border=\"1\" class=\"dataframe\">\n",
       "  <thead>\n",
       "    <tr style=\"text-align: right;\">\n",
       "      <th></th>\n",
       "      <th>age</th>\n",
       "      <th>educ</th>\n",
       "      <th>paeduc</th>\n",
       "      <th>maeduc</th>\n",
       "      <th>speduc</th>\n",
       "      <th>sibs</th>\n",
       "      <th>childs</th>\n",
       "      <th>agekdbrn</th>\n",
       "      <th>granborn</th>\n",
       "      <th>rank</th>\n",
       "      <th>tvhours</th>\n",
       "    </tr>\n",
       "  </thead>\n",
       "  <tbody>\n",
       "    <tr>\n",
       "      <th>count</th>\n",
       "      <td>56859.000000</td>\n",
       "      <td>56897.000000</td>\n",
       "      <td>40173.000000</td>\n",
       "      <td>46929.000000</td>\n",
       "      <td>29626.000000</td>\n",
       "      <td>55382.000000</td>\n",
       "      <td>56880.000000</td>\n",
       "      <td>18119.000000</td>\n",
       "      <td>44996.000000</td>\n",
       "      <td>9854.000000</td>\n",
       "      <td>33855.000000</td>\n",
       "    </tr>\n",
       "    <tr>\n",
       "      <th>mean</th>\n",
       "      <td>45.697955</td>\n",
       "      <td>12.753590</td>\n",
       "      <td>10.554004</td>\n",
       "      <td>10.713844</td>\n",
       "      <td>12.780328</td>\n",
       "      <td>3.940053</td>\n",
       "      <td>1.952848</td>\n",
       "      <td>23.787130</td>\n",
       "      <td>1.154547</td>\n",
       "      <td>4.772681</td>\n",
       "      <td>2.970699</td>\n",
       "    </tr>\n",
       "    <tr>\n",
       "      <th>std</th>\n",
       "      <td>17.472112</td>\n",
       "      <td>3.181642</td>\n",
       "      <td>4.349151</td>\n",
       "      <td>3.744795</td>\n",
       "      <td>3.128766</td>\n",
       "      <td>3.190929</td>\n",
       "      <td>1.791539</td>\n",
       "      <td>5.432127</td>\n",
       "      <td>1.604481</td>\n",
       "      <td>1.855722</td>\n",
       "      <td>2.353317</td>\n",
       "    </tr>\n",
       "    <tr>\n",
       "      <th>min</th>\n",
       "      <td>18.000000</td>\n",
       "      <td>0.000000</td>\n",
       "      <td>0.000000</td>\n",
       "      <td>0.000000</td>\n",
       "      <td>0.000000</td>\n",
       "      <td>0.000000</td>\n",
       "      <td>0.000000</td>\n",
       "      <td>9.000000</td>\n",
       "      <td>0.000000</td>\n",
       "      <td>1.000000</td>\n",
       "      <td>0.000000</td>\n",
       "    </tr>\n",
       "    <tr>\n",
       "      <th>25%</th>\n",
       "      <td>31.000000</td>\n",
       "      <td>12.000000</td>\n",
       "      <td>8.000000</td>\n",
       "      <td>8.000000</td>\n",
       "      <td>12.000000</td>\n",
       "      <td>2.000000</td>\n",
       "      <td>0.000000</td>\n",
       "      <td>20.000000</td>\n",
       "      <td>0.000000</td>\n",
       "      <td>4.000000</td>\n",
       "      <td>2.000000</td>\n",
       "    </tr>\n",
       "    <tr>\n",
       "      <th>50%</th>\n",
       "      <td>43.000000</td>\n",
       "      <td>12.000000</td>\n",
       "      <td>12.000000</td>\n",
       "      <td>12.000000</td>\n",
       "      <td>12.000000</td>\n",
       "      <td>3.000000</td>\n",
       "      <td>2.000000</td>\n",
       "      <td>23.000000</td>\n",
       "      <td>0.000000</td>\n",
       "      <td>5.000000</td>\n",
       "      <td>2.000000</td>\n",
       "    </tr>\n",
       "    <tr>\n",
       "      <th>75%</th>\n",
       "      <td>59.000000</td>\n",
       "      <td>15.000000</td>\n",
       "      <td>13.000000</td>\n",
       "      <td>12.000000</td>\n",
       "      <td>15.000000</td>\n",
       "      <td>5.000000</td>\n",
       "      <td>3.000000</td>\n",
       "      <td>27.000000</td>\n",
       "      <td>2.000000</td>\n",
       "      <td>6.000000</td>\n",
       "      <td>4.000000</td>\n",
       "    </tr>\n",
       "    <tr>\n",
       "      <th>max</th>\n",
       "      <td>89.000000</td>\n",
       "      <td>20.000000</td>\n",
       "      <td>20.000000</td>\n",
       "      <td>20.000000</td>\n",
       "      <td>20.000000</td>\n",
       "      <td>68.000000</td>\n",
       "      <td>8.000000</td>\n",
       "      <td>65.000000</td>\n",
       "      <td>4.000000</td>\n",
       "      <td>10.000000</td>\n",
       "      <td>24.000000</td>\n",
       "    </tr>\n",
       "  </tbody>\n",
       "</table>\n",
       "</div>"
      ],
      "text/plain": [
       "                age          educ        paeduc        maeduc        speduc  \\\n",
       "count  56859.000000  56897.000000  40173.000000  46929.000000  29626.000000   \n",
       "mean      45.697955     12.753590     10.554004     10.713844     12.780328   \n",
       "std       17.472112      3.181642      4.349151      3.744795      3.128766   \n",
       "min       18.000000      0.000000      0.000000      0.000000      0.000000   \n",
       "25%       31.000000     12.000000      8.000000      8.000000     12.000000   \n",
       "50%       43.000000     12.000000     12.000000     12.000000     12.000000   \n",
       "75%       59.000000     15.000000     13.000000     12.000000     15.000000   \n",
       "max       89.000000     20.000000     20.000000     20.000000     20.000000   \n",
       "\n",
       "               sibs        childs      agekdbrn      granborn         rank  \\\n",
       "count  55382.000000  56880.000000  18119.000000  44996.000000  9854.000000   \n",
       "mean       3.940053      1.952848     23.787130      1.154547     4.772681   \n",
       "std        3.190929      1.791539      5.432127      1.604481     1.855722   \n",
       "min        0.000000      0.000000      9.000000      0.000000     1.000000   \n",
       "25%        2.000000      0.000000     20.000000      0.000000     4.000000   \n",
       "50%        3.000000      2.000000     23.000000      0.000000     5.000000   \n",
       "75%        5.000000      3.000000     27.000000      2.000000     6.000000   \n",
       "max       68.000000      8.000000     65.000000      4.000000    10.000000   \n",
       "\n",
       "            tvhours  \n",
       "count  33855.000000  \n",
       "mean       2.970699  \n",
       "std        2.353317  \n",
       "min        0.000000  \n",
       "25%        2.000000  \n",
       "50%        2.000000  \n",
       "75%        4.000000  \n",
       "max       24.000000  "
      ]
     },
     "execution_count": 67,
     "metadata": {},
     "output_type": "execute_result"
    }
   ],
   "source": [
    "data.describe()"
   ]
  },
  {
   "cell_type": "markdown",
   "metadata": {},
   "source": [
    "Посмотрим подробнее, график зависимости доходов от уровня образования мужа или жены."
   ]
  },
  {
   "cell_type": "code",
   "execution_count": 23,
   "metadata": {},
   "outputs": [
    {
     "data": {
      "image/png": "[encoded data removed]",
      "text/plain": [
       "<Figure size 432x288 with 1 Axes>"
      ]
     },
     "metadata": {},
     "output_type": "display_data"
    }
   ],
   "source": [
    "plt.plot(data['speduc'], data['coninc'], 'o', alpha = 0.05)\n",
    "plt.xlabel('speduc')\n",
    "plt.ylabel('income')\n",
    "plt.title('Speduc vs income')\n",
    "pass"
   ]
  },
  {
   "cell_type": "markdown",
   "metadata": {},
   "source": [
    "Видимо, корреляция есть, но много рассеяния.\n",
    "\n",
    "Теперь создадим новый категориальный признак на основании `coninc`, который и будем угадать при обучении."
   ]
  },
  {
   "cell_type": "code",
   "execution_count": 24,
   "metadata": {},
   "outputs": [
    {
     "data": {
      "text/plain": [
       "count     51232.000000\n",
       "mean      44503.038316\n",
       "std       35936.012301\n",
       "min         383.000000\n",
       "25%       18445.000000\n",
       "50%       35602.000000\n",
       "75%       59542.000000\n",
       "max      180386.000000\n",
       "Name: coninc, dtype: float64"
      ]
     },
     "execution_count": 24,
     "metadata": {},
     "output_type": "execute_result"
    }
   ],
   "source": [
    "data['coninc'].describe()"
   ]
  },
  {
   "cell_type": "code",
   "execution_count": 130,
   "metadata": {},
   "outputs": [],
   "source": [
    "def group_inc(row):\n",
    "    if row['coninc'] >= 50000:\n",
    "        return 1\n",
    "    else:\n",
    "        return 0\n",
    "\n",
    "data['class'] = data.apply(group_inc, axis=1)"
   ]
  },
  {
   "cell_type": "markdown",
   "metadata": {},
   "source": [
    "Узнаем что-нибудь о нашем новом признаке:"
   ]
  },
  {
   "cell_type": "code",
   "execution_count": 38,
   "metadata": {},
   "outputs": [
    {
     "data": {
      "text/plain": [
       "count    57061.000000\n",
       "mean         0.298540\n",
       "std          0.457622\n",
       "min          0.000000\n",
       "25%          0.000000\n",
       "50%          0.000000\n",
       "75%          1.000000\n",
       "max          1.000000\n",
       "Name: class, dtype: float64"
      ]
     },
     "execution_count": 38,
     "metadata": {},
     "output_type": "execute_result"
    }
   ],
   "source": [
    "data['class'].describe()"
   ]
  },
  {
   "cell_type": "code",
   "execution_count": 175,
   "metadata": {},
   "outputs": [
    {
     "data": {
      "text/plain": [
       "(array([40026., 17035.]),\n",
       " array([-0.65237328,  0.44023229,  1.53283787]),\n",
       " <a list of 2 Patch objects>)"
      ]
     },
     "execution_count": 175,
     "metadata": {},
     "output_type": "execute_result"
    },
    {
     "data": {
      "image/png": "[encoded data removed]",
      "text/plain": [
       "<Figure size 432x288 with 1 Axes>"
      ]
     },
     "metadata": {},
     "output_type": "display_data"
    }
   ],
   "source": [
    "plt.hist(data['class'], rwidth=0.8, bins=2)"
   ]
  },
  {
   "cell_type": "markdown",
   "metadata": {},
   "source": [
    "Первого больше, но и второго достаточно."
   ]
  },
  {
   "cell_type": "markdown",
   "metadata": {},
   "source": [
    "Мне интересно как много смотрят телевизор в зависимости от образования, для каждого класса: красные точки - доходы больше 50000 долларов в год."
   ]
  },
  {
   "cell_type": "code",
   "execution_count": 41,
   "metadata": {},
   "outputs": [
    {
     "data": {
      "image/png": "[encoded data removed]",
      "text/plain": [
       "<Figure size 720x576 with 1 Axes>"
      ]
     },
     "metadata": {},
     "output_type": "display_data"
    }
   ],
   "source": [
    "plt.figure(figsize = (10, 8))\n",
    "\n",
    "plt.scatter(data[\"educ\"][data['class'] == 0],\n",
    "            data[data['class'] == 0]['tvhours'],\n",
    "            alpha = 0.15,\n",
    "            label = '<=50K',\n",
    "            color = 'b')\n",
    "\n",
    "plt.scatter(data[\"educ\"][data['class'] == 1],\n",
    "            data[data['class'] == 1]['tvhours'],\n",
    "            alpha = 0.05,\n",
    "            label = '>50K',\n",
    "            color = 'r')\n",
    "\n",
    "plt.xlabel('educ')\n",
    "plt.xticks(range(22))\n",
    "plt.xlim(-1, 21)\n",
    "plt.ylabel('tvhours')\n",
    "plt.legend()\n",
    "plt.grid()"
   ]
  },
  {
   "cell_type": "markdown",
   "metadata": {},
   "source": [
    "Если хотим можем ёще и рассеять эти точки чтобы увидеть те которые перекрываются."
   ]
  },
  {
   "cell_type": "code",
   "execution_count": 40,
   "metadata": {},
   "outputs": [
    {
     "data": {
      "image/png": "[encoded data removed]",
      "text/plain": [
       "<Figure size 720x576 with 1 Axes>"
      ]
     },
     "metadata": {},
     "output_type": "display_data"
    }
   ],
   "source": [
    "np.random.seed(0)\n",
    "educ_rnd = data['educ'] + np.random.rand(data.shape[0]) - .5\n",
    "\n",
    "plt.figure(figsize = (10, 8))\n",
    "\n",
    "plt.scatter(educ_rnd[data['class'] == 0],\n",
    "            data[data['class'] == 0]['tvhours'],\n",
    "            alpha = 0.15,\n",
    "            label = '<=50K',\n",
    "            color = 'b')\n",
    "\n",
    "plt.scatter(educ_rnd[data['class'] == 1],\n",
    "            data[data['class'] == 1]['tvhours'],\n",
    "            alpha = 0.05,\n",
    "            label = '>50K',\n",
    "            color = 'r')\n",
    "\n",
    "plt.xlabel('educ')\n",
    "plt.xticks(range(22))\n",
    "plt.xlim(-1, 21)\n",
    "plt.ylabel('tvhours')\n",
    "plt.legend()\n",
    "plt.grid()"
   ]
  },
  {
   "cell_type": "markdown",
   "metadata": {},
   "source": [
    "Чтобы понять это полностью, давайте посмотрим зависимость `tvhours` от возраста."
   ]
  },
  {
   "cell_type": "code",
   "execution_count": 32,
   "metadata": {},
   "outputs": [
    {
     "data": {
      "image/png": "[encoded data removed]",
      "text/plain": [
       "<Figure size 720x576 with 1 Axes>"
      ]
     },
     "metadata": {},
     "output_type": "display_data"
    }
   ],
   "source": [
    "np.random.seed(0)\n",
    "age_rnd = data['age'] + np.random.rand(data.shape[0]) - .5\n",
    "\n",
    "plt.figure(figsize = (10, 8))\n",
    "\n",
    "plt.scatter(age_rnd[data['class'] == 0],\n",
    "            data[data['class'] == 0]['tvhours'],\n",
    "            alpha = 0.15,\n",
    "            label = '<=50K',\n",
    "            color = 'b')\n",
    "\n",
    "plt.scatter(age_rnd[data['class'] == 1],\n",
    "            data[data['class'] == 1]['tvhours'],\n",
    "            alpha = 0.05,\n",
    "            label = '>50K',\n",
    "            color = 'r')\n",
    "\n",
    "plt.xlabel('age')\n",
    "plt.ylabel('tvhours')\n",
    "plt.legend()\n",
    "plt.grid()"
   ]
  },
  {
   "cell_type": "markdown",
   "metadata": {},
   "source": [
    "Значит это не из-за возраста, это больше всего из-за образования.\n",
    "Телевизор смотрят больше всех люди с законченным средним образованием, и больше те которые зарабатывают меньше.\n",
    "\n",
    "Теперь посмотрим описание (статистические данные) категориальных и всех признаков."
   ]
  },
  {
   "cell_type": "code",
   "execution_count": 42,
   "metadata": {},
   "outputs": [
    {
     "data": {
      "text/html": [
       "<div>\n",
       "<style scoped>\n",
       "    .dataframe tbody tr th:only-of-type {\n",
       "        vertical-align: middle;\n",
       "    }\n",
       "\n",
       "    .dataframe tbody tr th {\n",
       "        vertical-align: top;\n",
       "    }\n",
       "\n",
       "    .dataframe thead th {\n",
       "        text-align: right;\n",
       "    }\n",
       "</style>\n",
       "<table border=\"1\" class=\"dataframe\">\n",
       "  <thead>\n",
       "    <tr style=\"text-align: right;\">\n",
       "      <th></th>\n",
       "      <th>sex</th>\n",
       "      <th>race</th>\n",
       "      <th>wrkstat</th>\n",
       "      <th>wrkslf</th>\n",
       "      <th>marital</th>\n",
       "      <th>spwrksta</th>\n",
       "      <th>incom16</th>\n",
       "      <th>born</th>\n",
       "      <th>parborn</th>\n",
       "      <th>partyid</th>\n",
       "      <th>polviews</th>\n",
       "      <th>news</th>\n",
       "    </tr>\n",
       "  </thead>\n",
       "  <tbody>\n",
       "    <tr>\n",
       "      <th>count</th>\n",
       "      <td>57061</td>\n",
       "      <td>57061</td>\n",
       "      <td>57047</td>\n",
       "      <td>53549</td>\n",
       "      <td>57041</td>\n",
       "      <td>30697</td>\n",
       "      <td>43739</td>\n",
       "      <td>47804</td>\n",
       "      <td>47766</td>\n",
       "      <td>56734</td>\n",
       "      <td>47876</td>\n",
       "      <td>35689</td>\n",
       "    </tr>\n",
       "    <tr>\n",
       "      <th>unique</th>\n",
       "      <td>2</td>\n",
       "      <td>3</td>\n",
       "      <td>8</td>\n",
       "      <td>2</td>\n",
       "      <td>5</td>\n",
       "      <td>8</td>\n",
       "      <td>6</td>\n",
       "      <td>2</td>\n",
       "      <td>9</td>\n",
       "      <td>8</td>\n",
       "      <td>7</td>\n",
       "      <td>5</td>\n",
       "    </tr>\n",
       "    <tr>\n",
       "      <th>top</th>\n",
       "      <td>Female</td>\n",
       "      <td>White</td>\n",
       "      <td>Working Fulltime</td>\n",
       "      <td>Someone Else</td>\n",
       "      <td>Married</td>\n",
       "      <td>Working Fulltime</td>\n",
       "      <td>Average</td>\n",
       "      <td>Yes</td>\n",
       "      <td>Both In U.S</td>\n",
       "      <td>Not Str Democrat</td>\n",
       "      <td>Moderate</td>\n",
       "      <td>Everyday</td>\n",
       "    </tr>\n",
       "    <tr>\n",
       "      <th>freq</th>\n",
       "      <td>31915</td>\n",
       "      <td>46350</td>\n",
       "      <td>28207</td>\n",
       "      <td>47352</td>\n",
       "      <td>30761</td>\n",
       "      <td>16815</td>\n",
       "      <td>21941</td>\n",
       "      <td>43705</td>\n",
       "      <td>39137</td>\n",
       "      <td>12040</td>\n",
       "      <td>18494</td>\n",
       "      <td>17023</td>\n",
       "    </tr>\n",
       "  </tbody>\n",
       "</table>\n",
       "</div>"
      ],
      "text/plain": [
       "           sex   race           wrkstat        wrkslf  marital  \\\n",
       "count    57061  57061             57047         53549    57041   \n",
       "unique       2      3                 8             2        5   \n",
       "top     Female  White  Working Fulltime  Someone Else  Married   \n",
       "freq     31915  46350             28207         47352    30761   \n",
       "\n",
       "                spwrksta  incom16   born      parborn           partyid  \\\n",
       "count              30697    43739  47804        47766             56734   \n",
       "unique                 8        6      2            9                 8   \n",
       "top     Working Fulltime  Average    Yes  Both In U.S  Not Str Democrat   \n",
       "freq               16815    21941  43705        39137             12040   \n",
       "\n",
       "        polviews      news  \n",
       "count      47876     35689  \n",
       "unique         7         5  \n",
       "top     Moderate  Everyday  \n",
       "freq       18494     17023  "
      ]
     },
     "execution_count": 42,
     "metadata": {},
     "output_type": "execute_result"
    }
   ],
   "source": [
    "data.describe(include = ['object'])"
   ]
  },
  {
   "cell_type": "code",
   "execution_count": 43,
   "metadata": {},
   "outputs": [
    {
     "data": {
      "text/html": [
       "<div>\n",
       "<style scoped>\n",
       "    .dataframe tbody tr th:only-of-type {\n",
       "        vertical-align: middle;\n",
       "    }\n",
       "\n",
       "    .dataframe tbody tr th {\n",
       "        vertical-align: top;\n",
       "    }\n",
       "\n",
       "    .dataframe thead th {\n",
       "        text-align: right;\n",
       "    }\n",
       "</style>\n",
       "<table border=\"1\" class=\"dataframe\">\n",
       "  <thead>\n",
       "    <tr style=\"text-align: right;\">\n",
       "      <th></th>\n",
       "      <th>age</th>\n",
       "      <th>sex</th>\n",
       "      <th>race</th>\n",
       "      <th>educ</th>\n",
       "      <th>paeduc</th>\n",
       "      <th>maeduc</th>\n",
       "      <th>speduc</th>\n",
       "      <th>wrkstat</th>\n",
       "      <th>wrkslf</th>\n",
       "      <th>marital</th>\n",
       "      <th>...</th>\n",
       "      <th>born</th>\n",
       "      <th>parborn</th>\n",
       "      <th>granborn</th>\n",
       "      <th>coninc</th>\n",
       "      <th>partyid</th>\n",
       "      <th>polviews</th>\n",
       "      <th>class</th>\n",
       "      <th>rank</th>\n",
       "      <th>news</th>\n",
       "      <th>tvhours</th>\n",
       "    </tr>\n",
       "  </thead>\n",
       "  <tbody>\n",
       "    <tr>\n",
       "      <th>count</th>\n",
       "      <td>56859.000000</td>\n",
       "      <td>57061</td>\n",
       "      <td>57061</td>\n",
       "      <td>56897.000000</td>\n",
       "      <td>40173.000000</td>\n",
       "      <td>46929.000000</td>\n",
       "      <td>29626.000000</td>\n",
       "      <td>57047</td>\n",
       "      <td>53549</td>\n",
       "      <td>57041</td>\n",
       "      <td>...</td>\n",
       "      <td>47804</td>\n",
       "      <td>47766</td>\n",
       "      <td>44996.000000</td>\n",
       "      <td>51232.000000</td>\n",
       "      <td>56734</td>\n",
       "      <td>47876</td>\n",
       "      <td>57061.000000</td>\n",
       "      <td>9854.000000</td>\n",
       "      <td>35689</td>\n",
       "      <td>33855.000000</td>\n",
       "    </tr>\n",
       "    <tr>\n",
       "      <th>unique</th>\n",
       "      <td>NaN</td>\n",
       "      <td>2</td>\n",
       "      <td>3</td>\n",
       "      <td>NaN</td>\n",
       "      <td>NaN</td>\n",
       "      <td>NaN</td>\n",
       "      <td>NaN</td>\n",
       "      <td>8</td>\n",
       "      <td>2</td>\n",
       "      <td>5</td>\n",
       "      <td>...</td>\n",
       "      <td>2</td>\n",
       "      <td>9</td>\n",
       "      <td>NaN</td>\n",
       "      <td>NaN</td>\n",
       "      <td>8</td>\n",
       "      <td>7</td>\n",
       "      <td>NaN</td>\n",
       "      <td>NaN</td>\n",
       "      <td>5</td>\n",
       "      <td>NaN</td>\n",
       "    </tr>\n",
       "    <tr>\n",
       "      <th>top</th>\n",
       "      <td>NaN</td>\n",
       "      <td>Female</td>\n",
       "      <td>White</td>\n",
       "      <td>NaN</td>\n",
       "      <td>NaN</td>\n",
       "      <td>NaN</td>\n",
       "      <td>NaN</td>\n",
       "      <td>Working Fulltime</td>\n",
       "      <td>Someone Else</td>\n",
       "      <td>Married</td>\n",
       "      <td>...</td>\n",
       "      <td>Yes</td>\n",
       "      <td>Both In U.S</td>\n",
       "      <td>NaN</td>\n",
       "      <td>NaN</td>\n",
       "      <td>Not Str Democrat</td>\n",
       "      <td>Moderate</td>\n",
       "      <td>NaN</td>\n",
       "      <td>NaN</td>\n",
       "      <td>Everyday</td>\n",
       "      <td>NaN</td>\n",
       "    </tr>\n",
       "    <tr>\n",
       "      <th>freq</th>\n",
       "      <td>NaN</td>\n",
       "      <td>31915</td>\n",
       "      <td>46350</td>\n",
       "      <td>NaN</td>\n",
       "      <td>NaN</td>\n",
       "      <td>NaN</td>\n",
       "      <td>NaN</td>\n",
       "      <td>28207</td>\n",
       "      <td>47352</td>\n",
       "      <td>30761</td>\n",
       "      <td>...</td>\n",
       "      <td>43705</td>\n",
       "      <td>39137</td>\n",
       "      <td>NaN</td>\n",
       "      <td>NaN</td>\n",
       "      <td>12040</td>\n",
       "      <td>18494</td>\n",
       "      <td>NaN</td>\n",
       "      <td>NaN</td>\n",
       "      <td>17023</td>\n",
       "      <td>NaN</td>\n",
       "    </tr>\n",
       "    <tr>\n",
       "      <th>mean</th>\n",
       "      <td>45.697955</td>\n",
       "      <td>NaN</td>\n",
       "      <td>NaN</td>\n",
       "      <td>12.753590</td>\n",
       "      <td>10.554004</td>\n",
       "      <td>10.713844</td>\n",
       "      <td>12.780328</td>\n",
       "      <td>NaN</td>\n",
       "      <td>NaN</td>\n",
       "      <td>NaN</td>\n",
       "      <td>...</td>\n",
       "      <td>NaN</td>\n",
       "      <td>NaN</td>\n",
       "      <td>1.154547</td>\n",
       "      <td>44503.038316</td>\n",
       "      <td>NaN</td>\n",
       "      <td>NaN</td>\n",
       "      <td>0.298540</td>\n",
       "      <td>4.772681</td>\n",
       "      <td>NaN</td>\n",
       "      <td>2.970699</td>\n",
       "    </tr>\n",
       "    <tr>\n",
       "      <th>std</th>\n",
       "      <td>17.472112</td>\n",
       "      <td>NaN</td>\n",
       "      <td>NaN</td>\n",
       "      <td>3.181642</td>\n",
       "      <td>4.349151</td>\n",
       "      <td>3.744795</td>\n",
       "      <td>3.128766</td>\n",
       "      <td>NaN</td>\n",
       "      <td>NaN</td>\n",
       "      <td>NaN</td>\n",
       "      <td>...</td>\n",
       "      <td>NaN</td>\n",
       "      <td>NaN</td>\n",
       "      <td>1.604481</td>\n",
       "      <td>35936.012301</td>\n",
       "      <td>NaN</td>\n",
       "      <td>NaN</td>\n",
       "      <td>0.457622</td>\n",
       "      <td>1.855722</td>\n",
       "      <td>NaN</td>\n",
       "      <td>2.353317</td>\n",
       "    </tr>\n",
       "    <tr>\n",
       "      <th>min</th>\n",
       "      <td>18.000000</td>\n",
       "      <td>NaN</td>\n",
       "      <td>NaN</td>\n",
       "      <td>0.000000</td>\n",
       "      <td>0.000000</td>\n",
       "      <td>0.000000</td>\n",
       "      <td>0.000000</td>\n",
       "      <td>NaN</td>\n",
       "      <td>NaN</td>\n",
       "      <td>NaN</td>\n",
       "      <td>...</td>\n",
       "      <td>NaN</td>\n",
       "      <td>NaN</td>\n",
       "      <td>0.000000</td>\n",
       "      <td>383.000000</td>\n",
       "      <td>NaN</td>\n",
       "      <td>NaN</td>\n",
       "      <td>0.000000</td>\n",
       "      <td>1.000000</td>\n",
       "      <td>NaN</td>\n",
       "      <td>0.000000</td>\n",
       "    </tr>\n",
       "    <tr>\n",
       "      <th>25%</th>\n",
       "      <td>31.000000</td>\n",
       "      <td>NaN</td>\n",
       "      <td>NaN</td>\n",
       "      <td>12.000000</td>\n",
       "      <td>8.000000</td>\n",
       "      <td>8.000000</td>\n",
       "      <td>12.000000</td>\n",
       "      <td>NaN</td>\n",
       "      <td>NaN</td>\n",
       "      <td>NaN</td>\n",
       "      <td>...</td>\n",
       "      <td>NaN</td>\n",
       "      <td>NaN</td>\n",
       "      <td>0.000000</td>\n",
       "      <td>18445.000000</td>\n",
       "      <td>NaN</td>\n",
       "      <td>NaN</td>\n",
       "      <td>0.000000</td>\n",
       "      <td>4.000000</td>\n",
       "      <td>NaN</td>\n",
       "      <td>2.000000</td>\n",
       "    </tr>\n",
       "    <tr>\n",
       "      <th>50%</th>\n",
       "      <td>43.000000</td>\n",
       "      <td>NaN</td>\n",
       "      <td>NaN</td>\n",
       "      <td>12.000000</td>\n",
       "      <td>12.000000</td>\n",
       "      <td>12.000000</td>\n",
       "      <td>12.000000</td>\n",
       "      <td>NaN</td>\n",
       "      <td>NaN</td>\n",
       "      <td>NaN</td>\n",
       "      <td>...</td>\n",
       "      <td>NaN</td>\n",
       "      <td>NaN</td>\n",
       "      <td>0.000000</td>\n",
       "      <td>35602.000000</td>\n",
       "      <td>NaN</td>\n",
       "      <td>NaN</td>\n",
       "      <td>0.000000</td>\n",
       "      <td>5.000000</td>\n",
       "      <td>NaN</td>\n",
       "      <td>2.000000</td>\n",
       "    </tr>\n",
       "    <tr>\n",
       "      <th>75%</th>\n",
       "      <td>59.000000</td>\n",
       "      <td>NaN</td>\n",
       "      <td>NaN</td>\n",
       "      <td>15.000000</td>\n",
       "      <td>13.000000</td>\n",
       "      <td>12.000000</td>\n",
       "      <td>15.000000</td>\n",
       "      <td>NaN</td>\n",
       "      <td>NaN</td>\n",
       "      <td>NaN</td>\n",
       "      <td>...</td>\n",
       "      <td>NaN</td>\n",
       "      <td>NaN</td>\n",
       "      <td>2.000000</td>\n",
       "      <td>59542.000000</td>\n",
       "      <td>NaN</td>\n",
       "      <td>NaN</td>\n",
       "      <td>1.000000</td>\n",
       "      <td>6.000000</td>\n",
       "      <td>NaN</td>\n",
       "      <td>4.000000</td>\n",
       "    </tr>\n",
       "    <tr>\n",
       "      <th>max</th>\n",
       "      <td>89.000000</td>\n",
       "      <td>NaN</td>\n",
       "      <td>NaN</td>\n",
       "      <td>20.000000</td>\n",
       "      <td>20.000000</td>\n",
       "      <td>20.000000</td>\n",
       "      <td>20.000000</td>\n",
       "      <td>NaN</td>\n",
       "      <td>NaN</td>\n",
       "      <td>NaN</td>\n",
       "      <td>...</td>\n",
       "      <td>NaN</td>\n",
       "      <td>NaN</td>\n",
       "      <td>4.000000</td>\n",
       "      <td>180386.000000</td>\n",
       "      <td>NaN</td>\n",
       "      <td>NaN</td>\n",
       "      <td>1.000000</td>\n",
       "      <td>10.000000</td>\n",
       "      <td>NaN</td>\n",
       "      <td>24.000000</td>\n",
       "    </tr>\n",
       "  </tbody>\n",
       "</table>\n",
       "<p>11 rows × 25 columns</p>\n",
       "</div>"
      ],
      "text/plain": [
       "                 age     sex   race          educ        paeduc        maeduc  \\\n",
       "count   56859.000000   57061  57061  56897.000000  40173.000000  46929.000000   \n",
       "unique           NaN       2      3           NaN           NaN           NaN   \n",
       "top              NaN  Female  White           NaN           NaN           NaN   \n",
       "freq             NaN   31915  46350           NaN           NaN           NaN   \n",
       "mean       45.697955     NaN    NaN     12.753590     10.554004     10.713844   \n",
       "std        17.472112     NaN    NaN      3.181642      4.349151      3.744795   \n",
       "min        18.000000     NaN    NaN      0.000000      0.000000      0.000000   \n",
       "25%        31.000000     NaN    NaN     12.000000      8.000000      8.000000   \n",
       "50%        43.000000     NaN    NaN     12.000000     12.000000     12.000000   \n",
       "75%        59.000000     NaN    NaN     15.000000     13.000000     12.000000   \n",
       "max        89.000000     NaN    NaN     20.000000     20.000000     20.000000   \n",
       "\n",
       "              speduc           wrkstat        wrkslf  marital      ...       \\\n",
       "count   29626.000000             57047         53549    57041      ...        \n",
       "unique           NaN                 8             2        5      ...        \n",
       "top              NaN  Working Fulltime  Someone Else  Married      ...        \n",
       "freq             NaN             28207         47352    30761      ...        \n",
       "mean       12.780328               NaN           NaN      NaN      ...        \n",
       "std         3.128766               NaN           NaN      NaN      ...        \n",
       "min         0.000000               NaN           NaN      NaN      ...        \n",
       "25%        12.000000               NaN           NaN      NaN      ...        \n",
       "50%        12.000000               NaN           NaN      NaN      ...        \n",
       "75%        15.000000               NaN           NaN      NaN      ...        \n",
       "max        20.000000               NaN           NaN      NaN      ...        \n",
       "\n",
       "         born      parborn      granborn         coninc           partyid  \\\n",
       "count   47804        47766  44996.000000   51232.000000             56734   \n",
       "unique      2            9           NaN            NaN                 8   \n",
       "top       Yes  Both In U.S           NaN            NaN  Not Str Democrat   \n",
       "freq    43705        39137           NaN            NaN             12040   \n",
       "mean      NaN          NaN      1.154547   44503.038316               NaN   \n",
       "std       NaN          NaN      1.604481   35936.012301               NaN   \n",
       "min       NaN          NaN      0.000000     383.000000               NaN   \n",
       "25%       NaN          NaN      0.000000   18445.000000               NaN   \n",
       "50%       NaN          NaN      0.000000   35602.000000               NaN   \n",
       "75%       NaN          NaN      2.000000   59542.000000               NaN   \n",
       "max       NaN          NaN      4.000000  180386.000000               NaN   \n",
       "\n",
       "        polviews         class         rank      news       tvhours  \n",
       "count      47876  57061.000000  9854.000000     35689  33855.000000  \n",
       "unique         7           NaN          NaN         5           NaN  \n",
       "top     Moderate           NaN          NaN  Everyday           NaN  \n",
       "freq       18494           NaN          NaN     17023           NaN  \n",
       "mean         NaN      0.298540     4.772681       NaN      2.970699  \n",
       "std          NaN      0.457622     1.855722       NaN      2.353317  \n",
       "min          NaN      0.000000     1.000000       NaN      0.000000  \n",
       "25%          NaN      0.000000     4.000000       NaN      2.000000  \n",
       "50%          NaN      0.000000     5.000000       NaN      2.000000  \n",
       "75%          NaN      1.000000     6.000000       NaN      4.000000  \n",
       "max          NaN      1.000000    10.000000       NaN     24.000000  \n",
       "\n",
       "[11 rows x 25 columns]"
      ]
     },
     "execution_count": 43,
     "metadata": {},
     "output_type": "execute_result"
    }
   ],
   "source": [
    "data.describe(include = 'all')"
   ]
  },
  {
   "cell_type": "markdown",
   "metadata": {},
   "source": [
    "Находим категориальные и числовые признаки:"
   ]
  },
  {
   "cell_type": "code",
   "execution_count": 131,
   "metadata": {},
   "outputs": [
    {
     "name": "stdout",
     "output_type": "stream",
     "text": [
      "['sex', 'race', 'hispanic', 'uscitzn', 'degree', 'vetyears', 'wrkstat', 'wrkslf', 'marital', 'spwrksta', 'incom16', 'born', 'parborn', 'income06', 'region', 'partyid', 'polviews', 'relig', 'attend', 'natspac', 'natenvir', 'natheal', 'natcity', 'natcrime', 'natdrug', 'nateduc', 'natrace', 'natarms', 'nataid', 'natfare', 'natroad', 'natsoc', 'natmass', 'natpark', 'confinan', 'conbus', 'conclerg', 'coneduc', 'confed', 'conlabor', 'conpress', 'conmedic', 'contv', 'conjudge', 'consci', 'conlegis', 'conarmy', 'joblose', 'jobfind', 'satjob', 'richwork', 'jobinc', 'jobsec', 'jobhour', 'jobpromo', 'jobmeans', 'satfin', 'finalter', 'finrela', 'unemp', 'govaid', 'getaid', 'union', 'getahead', 'parsol', 'kidssol', 'abdefect', 'abnomore', 'abhlth', 'abpoor', 'abrape', 'absingle', 'abany', 'pillok', 'sexeduc', 'divlaw', 'premarsx', 'teensex', 'xmarsex', 'homosex', 'suicide1', 'suicide2', 'suicide3', 'suicide4', 'fear', 'owngun', 'pistol', 'shotgun', 'rifle', 'news', 'racdif1', 'racdif2', 'racdif3', 'racdif4', 'helppoor', 'helpnot', 'helpsick', 'helpblk']\n",
      "['caseid', 'year', 'age', 'educ', 'paeduc', 'maeduc', 'speduc', 'sei', 'sibs', 'childs', 'agekdbrn', 'granborn', 'coninc', 'class', 'rank', 'tvhours']\n"
     ]
    }
   ],
   "source": [
    "categorical_columns = [c for c in data.columns if data[c].dtype.name == 'object']\n",
    "numerical_columns   = [c for c in data.columns if data[c].dtype.name != 'object']\n",
    "print(categorical_columns)\n",
    "print(numerical_columns)"
   ]
  },
  {
   "cell_type": "code",
   "execution_count": 132,
   "metadata": {},
   "outputs": [
    {
     "name": "stdout",
     "output_type": "stream",
     "text": [
      "sex ['Female' 'Male']\n",
      "\n",
      "race ['White' 'Black' 'Other']\n",
      "\n",
      "hispanic [nan 'Not Hispanic' 'Puerto Rican' 'Mexican, Mexican American, Chicano/A'\n",
      " 'Salvadorian' 'Peruvian' 'Filipino/A' 'Other, Not Specified' 'Spanish'\n",
      " 'Dominican' 'Panamanian' 'Central American' 'Latin' 'Equadorian'\n",
      " 'Latino/A' 'Columbian' 'South American' 'Cuban' 'Guatemalan' 'Venezuelan'\n",
      " 'Latin American' 'Basque' 'Nicaraguan' 'Costa Rican' 'West Indian'\n",
      " 'Hispanic' 'Honduran' 'Argentinian' 'Chilean']\n",
      "\n",
      "uscitzn [nan 'A U.S. Citizen' 'Not A U.S. Citizen'\n",
      " 'Born Outside Of The United States To Parents Who Were U.S Citizens At That Time (If Volunteered)'\n",
      " 'A U.S. Citizen Born In Puerto Rico, The U.S. Virgin Islands, Or The Northern Marianas Islands']\n",
      "\n",
      "degree ['Bachelor' 'Lt High School' 'High School' nan 'Graduate' 'Junior College']\n",
      "\n",
      "vetyears [nan 'None' '2 To 4 Years' 'Less Than 2 Yrs' 'More Than 4 Yrs'\n",
      " 'Some,Dk How Long']\n",
      "\n",
      "wrkstat ['Working Fulltime' 'Retired' 'Working Parttime' 'Keeping House' 'School'\n",
      " 'Unempl, Laid Off' 'Temp Not Working' 'Other' nan]\n",
      "\n",
      "wrkslf ['Someone Else' nan 'Self-Employed']\n",
      "\n",
      "marital ['Never Married' 'Married' 'Divorced' 'Widowed' 'Separated' nan]\n",
      "\n",
      "spwrksta [nan 'Keeping House' 'Working Fulltime' 'Temp Not Working'\n",
      " 'Working Parttime' 'Retired' 'Unempl, Laid Off' 'School' 'Other']\n",
      "\n",
      "incom16 ['Average' 'Above Average' 'Below Average' 'Far Below Average' nan\n",
      " 'Far Above Average' 'Lived In Institution']\n",
      "\n",
      "born [nan 'Yes' 'No']\n",
      "\n",
      "parborn [nan 'Neither In U.S' 'Both In U.S' 'Mother Only' 'Father Only'\n",
      " 'Dk For Both' 'Mother; Fa. Dk' 'Not Mother;Fa.Dk' 'Not Father;Mo.Dk'\n",
      " 'Father; Mo.Dk']\n",
      "\n",
      "income06 [nan '$30000 To 34999' '$75000 To $89999' 'Refused' '$40000 To 49999'\n",
      " '$35000 To 39999' '$50000 To 59999' '$8 000 To 9 999' '$10000 To 12499'\n",
      " '$4 000 To 4 999' '$25000 To 29999' '$20000 To 22499' '$60000 To 74999'\n",
      " '$6 000 To 6 999' '$110000 To $129999' '$150000 Or Over'\n",
      " '$17500 To 19999' '$130000 To $149999' '$90000 To $109999'\n",
      " '$7 000 To 7 999' '$15000 To 17499' '$5 000 To 5 999' '$22500 To 24999'\n",
      " 'Under $1 000' '$12500 To 14999' '$3 000 To 3 999' '$1 000 To 2 999']\n",
      "\n",
      "region ['E. Nor. Central' 'W. Sou. Central' 'E. Sou. Central' 'W. Nor. Central'\n",
      " 'New England' 'Pacific' 'South Atlantic' 'Middle Atlantic' 'Mountain']\n",
      "\n",
      "partyid ['Ind,Near Dem' 'Not Str Democrat' 'Independent' 'Strong Democrat'\n",
      " 'Not Str Republican' 'Ind,Near Rep' 'Strong Republican' 'Other Party' nan]\n",
      "\n",
      "polviews [nan 'Moderate' 'Slightly Conservative' 'Conservative' 'Liberal'\n",
      " 'Extrmly Conservative' 'Slightly Liberal' 'Extremely Liberal']\n",
      "\n",
      "relig ['Jewish' 'Catholic' 'Protestant' 'Other' 'None' nan\n",
      " 'Inter-Nondenominational' 'Christian' 'Moslem/Islam' 'Buddhism'\n",
      " 'Orthodox-Christian' 'Native American' 'Hinduism' 'Other Eastern']\n",
      "\n",
      "attend ['Once A Year' 'Every Week' 'Once A Month' nan 'Sevrl Times A Yr'\n",
      " 'More Thn Once Wk' '2-3X A Month' 'Lt Once A Year' 'Nrly Every Week']\n",
      "\n",
      "natspac [nan 'Too Much' 'About Right' 'Too Little']\n",
      "\n",
      "natenvir [nan 'Too Much' 'About Right' 'Too Little']\n",
      "\n",
      "natheal [nan 'Too Little' 'About Right' 'Too Much']\n",
      "\n",
      "natcity [nan 'Too Much' 'Too Little' 'About Right']\n",
      "\n",
      "natcrime [nan 'Too Much' 'Too Little' 'About Right']\n",
      "\n",
      "natdrug [nan 'Too Little' 'Too Much' 'About Right']\n",
      "\n",
      "nateduc [nan 'Too Little' 'About Right' 'Too Much']\n",
      "\n",
      "natrace [nan 'Too Much' 'Too Little' 'About Right']\n",
      "\n",
      "natarms [nan 'About Right' 'Too Little' 'Too Much']\n",
      "\n",
      "nataid [nan 'Too Much' 'About Right' 'Too Little']\n",
      "\n",
      "natfare [nan 'Too Much' 'Too Little' 'About Right']\n",
      "\n",
      "natroad [nan 'Too Little' 'About Right' 'Too Much']\n",
      "\n",
      "natsoc [nan 'About Right' 'Too Little' 'Too Much']\n",
      "\n",
      "natmass [nan 'About Right' 'Too Little' 'Too Much']\n",
      "\n",
      "natpark [nan 'About Right' 'Too Little' 'Too Much']\n",
      "\n",
      "confinan [nan 'A Great Deal' 'Only Some' 'Hardly Any']\n",
      "\n",
      "conbus [nan 'Only Some' 'A Great Deal' 'Hardly Any']\n",
      "\n",
      "conclerg [nan 'Hardly Any' 'A Great Deal' 'Only Some']\n",
      "\n",
      "coneduc [nan 'A Great Deal' 'Hardly Any' 'Only Some']\n",
      "\n",
      "confed [nan 'Only Some' 'A Great Deal' 'Hardly Any']\n",
      "\n",
      "conlabor [nan 'Only Some' 'Hardly Any' 'A Great Deal']\n",
      "\n",
      "conpress [nan 'Only Some' 'Hardly Any' 'A Great Deal']\n",
      "\n",
      "conmedic [nan 'Only Some' 'A Great Deal' 'Hardly Any']\n",
      "\n",
      "contv [nan 'Hardly Any' 'Only Some' 'A Great Deal']\n",
      "\n",
      "conjudge [nan 'A Great Deal' 'Only Some' 'Hardly Any']\n",
      "\n",
      "consci [nan 'Only Some' 'A Great Deal' 'Hardly Any']\n",
      "\n",
      "conlegis [nan 'Only Some' 'A Great Deal' 'Hardly Any']\n",
      "\n",
      "conarmy [nan 'A Great Deal' 'Only Some' 'Hardly Any']\n",
      "\n",
      "joblose [nan 'Not Likely' 'Not Too Likely' 'Very Likely' 'Fairly Likely'\n",
      " 'Leaving Labor Force']\n",
      "\n",
      "jobfind [nan 'Not Easy' 'Very Easy' 'Somewhat Easy']\n",
      "\n",
      "satjob ['A Little Dissat' nan 'Mod. Satisfied' 'Very Satisfied'\n",
      " 'Very Dissatisfied']\n",
      "\n",
      "richwork [nan 'Stop Working' 'Continue Working']\n",
      "\n",
      "jobinc [nan 'Fourth' 'Second' 'Third' 'Most Impt' 'Fifth']\n",
      "\n",
      "jobsec [nan 'Most Impt' 'Fourth' 'Fifth' 'Third' 'Second']\n",
      "\n",
      "jobhour [nan 'Fifth' 'Third' 'Second' 'Fourth' 'Most Impt']\n",
      "\n",
      "jobpromo [nan 'Second' 'Most Impt' 'Fourth' 'Third' 'Fifth']\n",
      "\n",
      "jobmeans [nan 'Third' 'Second' 'Fifth' 'Most Impt' 'Fourth']\n",
      "\n",
      "satfin ['Not At All Sat' 'More Or Less' 'Satisfied' nan]\n",
      "\n",
      "finalter ['Better' 'Stayed Same' 'Worse' nan]\n",
      "\n",
      "finrela ['Average' 'Above Average' 'Below Average' 'Far Above Average' nan\n",
      " 'Far Below Average']\n",
      "\n",
      "unemp [nan 'No' 'Yes']\n",
      "\n",
      "govaid [nan 'Yes' 'No']\n",
      "\n",
      "getaid [nan 'No' 'Yes']\n",
      "\n",
      "union [nan 'R Belongs' 'Neither Belongs' 'Spouse Belongs' 'R And Spouse Belong']\n",
      "\n",
      "getahead [nan 'Both Equally' 'Hard Work' 'Luck Or Help' 'Other']\n",
      "\n",
      "parsol [nan 'Somewhat Worse' 'Much Better' 'Somewhat Better' 'About The Same'\n",
      " 'Much Worse']\n",
      "\n",
      "kidssol [nan 'Somewhat Better' 'Somewhat Worse' 'No Children -Volunteered-'\n",
      " 'Much Better' 'About The Same' 'Much Worse']\n",
      "\n",
      "abdefect ['Yes' 'No' nan]\n",
      "\n",
      "abnomore ['Yes' 'No' nan]\n",
      "\n",
      "abhlth ['Yes' nan 'No']\n",
      "\n",
      "abpoor ['Yes' 'No' nan]\n",
      "\n",
      "abrape ['Yes' nan 'No']\n",
      "\n",
      "absingle ['Yes' 'No' nan]\n",
      "\n",
      "abany [nan 'Yes' 'No']\n",
      "\n",
      "pillok [nan 'Strongly Agree' 'Disagree' 'Agree' 'Strongly Disagree']\n",
      "\n",
      "sexeduc [nan 'Favor' 'Oppose' 'Depends']\n",
      "\n",
      "divlaw [nan 'More Difficult' 'Easier' 'Stay Same']\n",
      "\n",
      "premarsx ['Not Wrong At All' 'Always Wrong' 'Sometimes Wrong' nan\n",
      " 'Almst Always Wrg']\n",
      "\n",
      "teensex [nan 'Not Wrong At All' 'Sometimes Wrong' 'Always Wrong'\n",
      " 'Almst Always Wrg']\n",
      "\n",
      "xmarsex [nan 'Always Wrong' 'Sometimes Wrong' 'Almst Always Wrg'\n",
      " 'Not Wrong At All']\n",
      "\n",
      "homosex [nan 'Always Wrong' 'Not Wrong At All' 'Almst Always Wrg'\n",
      " 'Sometimes Wrong' 'Other']\n",
      "\n",
      "suicide1 [nan 'No' 'Yes']\n",
      "\n",
      "suicide2 [nan 'No' 'Yes']\n",
      "\n",
      "suicide3 [nan 'No' 'Yes']\n",
      "\n",
      "suicide4 [nan 'No' 'Yes']\n",
      "\n",
      "fear [nan 'No' 'Yes']\n",
      "\n",
      "owngun [nan 'Yes' 'No' 'Refused']\n",
      "\n",
      "pistol [nan 'Yes' 'No' 'Refused']\n",
      "\n",
      "shotgun [nan 'Yes' 'No' 'Refused']\n",
      "\n",
      "rifle [nan 'Yes' 'No' 'Refused']\n",
      "\n",
      "news ['Everyday' 'Once A Week' 'Less Than Once Wk' 'Few Times A Week' 'Never'\n",
      " nan]\n",
      "\n",
      "racdif1 [nan 'No' 'Yes']\n",
      "\n",
      "racdif2 [nan 'Yes' 'No']\n",
      "\n",
      "racdif3 [nan 'No' 'Yes']\n",
      "\n",
      "racdif4 [nan 'Yes' 'No']\n",
      "\n",
      "helppoor [nan 'Govt Action' 'Agree With Both' 'People Help Selves']\n",
      "\n",
      "helpnot [nan 'Agree With Both' 'Govt Do More' 'Govt Does Too Much']\n",
      "\n",
      "helpsick [nan 'People Help Selves' 'Agree With Both' 'Govt Should Help']\n",
      "\n",
      "helpblk [nan 'Agree With Both' 'No Special Treatment' 'Govt Help Blks']\n",
      "\n"
     ]
    }
   ],
   "source": [
    "for c in categorical_columns:\n",
    "    print(c, data[c].unique())\n",
    "    print()"
   ]
  },
  {
   "cell_type": "markdown",
   "metadata": {},
   "source": [
    "## Обрабатываем пропущенные значения\n",
    "\n",
    "Если данные содержат пропущенные значения, то имеется две простые альтернативы:\n",
    "- удалить столбцы с такими значениями (`data = data.dropna(axis = 1)`),\n",
    "- удалить строки с такими значениями (`data = data.dropna(axis = 0)`).\n",
    "\n",
    "После этого данных может стать совсем мало.\n",
    "\n",
    "Куда более эффективным (и в то же время по-прежнему простым) методом обычно является заполнение пропущенных значений для каждой количественной переменной их средним или медианным значением. \n",
    "Для категориальных признаков пропущенные значения можно заполнить самым популярным значением в столбце."
   ]
  },
  {
   "cell_type": "code",
   "execution_count": 135,
   "metadata": {},
   "outputs": [
    {
     "data": {
      "text/plain": [
       "0"
      ]
     },
     "execution_count": 135,
     "metadata": {},
     "output_type": "execute_result"
    }
   ],
   "source": [
    "data['class'].isna().sum()"
   ]
  },
  {
   "cell_type": "markdown",
   "metadata": {},
   "source": [
    "Главное что нет пропущенных значений в столбце `class`"
   ]
  },
  {
   "cell_type": "code",
   "execution_count": 136,
   "metadata": {},
   "outputs": [
    {
     "data": {
      "text/plain": [
       "caseid      28531.0\n",
       "year         1993.0\n",
       "age            43.0\n",
       "educ           12.0\n",
       "paeduc         12.0\n",
       "maeduc         12.0\n",
       "speduc         12.0\n",
       "sei            39.0\n",
       "sibs            3.0\n",
       "childs          2.0\n",
       "agekdbrn       23.0\n",
       "granborn        0.0\n",
       "coninc      35602.0\n",
       "class           0.0\n",
       "rank            5.0\n",
       "tvhours         2.0\n",
       "dtype: float64"
      ]
     },
     "execution_count": 136,
     "metadata": {},
     "output_type": "execute_result"
    }
   ],
   "source": [
    "data[numerical_columns].median()"
   ]
  },
  {
   "cell_type": "code",
   "execution_count": 137,
   "metadata": {},
   "outputs": [],
   "source": [
    "data[numerical_columns] = data[numerical_columns].fillna(data.median(axis = 0), axis = 0)"
   ]
  },
  {
   "cell_type": "markdown",
   "metadata": {},
   "source": [
    "Проверим как обработаны пропущенные значения:"
   ]
  },
  {
   "cell_type": "code",
   "execution_count": 138,
   "metadata": {},
   "outputs": [
    {
     "data": {
      "text/plain": [
       "caseid      57061\n",
       "year        57061\n",
       "age         57061\n",
       "educ        57061\n",
       "paeduc      57061\n",
       "maeduc      57061\n",
       "speduc      57061\n",
       "sei         57061\n",
       "sibs        57061\n",
       "childs      57061\n",
       "agekdbrn    57061\n",
       "granborn    57061\n",
       "coninc      57061\n",
       "class       57061\n",
       "rank        57061\n",
       "tvhours     57061\n",
       "dtype: int64"
      ]
     },
     "execution_count": 138,
     "metadata": {},
     "output_type": "execute_result"
    }
   ],
   "source": [
    "data[numerical_columns].count(axis = 0)"
   ]
  },
  {
   "cell_type": "code",
   "execution_count": 139,
   "metadata": {},
   "outputs": [
    {
     "data": {
      "text/plain": [
       "sex         57061\n",
       "race        57061\n",
       "hispanic    18920\n",
       "uscitzn       770\n",
       "degree      56051\n",
       "vetyears    21884\n",
       "wrkstat     57047\n",
       "wrkslf      53549\n",
       "marital     57041\n",
       "spwrksta    30697\n",
       "incom16     43739\n",
       "born        47804\n",
       "parborn     47766\n",
       "income06    10070\n",
       "region      57061\n",
       "partyid     56734\n",
       "polviews    47876\n",
       "relig       56828\n",
       "attend      47092\n",
       "natspac     31227\n",
       "natenvir    31614\n",
       "natheal     32081\n",
       "natcity     29096\n",
       "natcrime    31781\n",
       "natdrug     31415\n",
       "nateduc     32255\n",
       "natrace     30309\n",
       "natarms     31427\n",
       "nataid      31506\n",
       "natfare     31758\n",
       "            ...  \n",
       "abhlth      39384\n",
       "abpoor      39028\n",
       "abrape      38981\n",
       "absingle    39020\n",
       "abany       31807\n",
       "pillok      20748\n",
       "sexeduc     30680\n",
       "divlaw      32684\n",
       "premarsx    33548\n",
       "teensex     21702\n",
       "xmarsex     34019\n",
       "homosex     32789\n",
       "suicide1    28826\n",
       "suicide2    29574\n",
       "suicide3    29504\n",
       "suicide4    29208\n",
       "fear        34295\n",
       "owngun      34459\n",
       "pistol      34219\n",
       "shotgun     34211\n",
       "rifle       34211\n",
       "news        35689\n",
       "racdif1     24086\n",
       "racdif2     24421\n",
       "racdif3     24459\n",
       "racdif4     23827\n",
       "helppoor    20166\n",
       "helpnot     19072\n",
       "helpsick    19327\n",
       "helpblk     19884\n",
       "Length: 98, dtype: int64"
      ]
     },
     "execution_count": 139,
     "metadata": {},
     "output_type": "execute_result"
    }
   ],
   "source": [
    "data[categorical_columns].count(axis = 0)"
   ]
  },
  {
   "cell_type": "markdown",
   "metadata": {},
   "source": [
    "Осталось заполнить пропущенные категориальные значения наичаще повторяемыми."
   ]
  },
  {
   "cell_type": "code",
   "execution_count": 101,
   "metadata": {},
   "outputs": [
    {
     "data": {
      "text/plain": [
       "count                57047\n",
       "unique                   8\n",
       "top       Working Fulltime\n",
       "freq                 28207\n",
       "Name: wrkstat, dtype: object"
      ]
     },
     "execution_count": 101,
     "metadata": {},
     "output_type": "execute_result"
    }
   ],
   "source": [
    "data['wrkstat'].describe()"
   ]
  },
  {
   "cell_type": "code",
   "execution_count": 129,
   "metadata": {},
   "outputs": [
    {
     "data": {
      "text/plain": [
       "pandas.core.series.Series"
      ]
     },
     "execution_count": 129,
     "metadata": {},
     "output_type": "execute_result"
    }
   ],
   "source": [
    "type(data['wrkstat'].describe())"
   ]
  },
  {
   "cell_type": "code",
   "execution_count": 130,
   "metadata": {},
   "outputs": [
    {
     "data": {
      "text/plain": [
       "'Working Fulltime'"
      ]
     },
     "execution_count": 130,
     "metadata": {},
     "output_type": "execute_result"
    }
   ],
   "source": [
    "data['wrkstat'].describe().top"
   ]
  },
  {
   "cell_type": "code",
   "execution_count": 41,
   "metadata": {},
   "outputs": [],
   "source": [
    "#data['wrkstat'] = data['wrkstat'].fillna(data['wrkstat'].describe().top)"
   ]
  },
  {
   "cell_type": "code",
   "execution_count": 140,
   "metadata": {},
   "outputs": [
    {
     "data": {
      "text/html": [
       "<div>\n",
       "<style scoped>\n",
       "    .dataframe tbody tr th:only-of-type {\n",
       "        vertical-align: middle;\n",
       "    }\n",
       "\n",
       "    .dataframe tbody tr th {\n",
       "        vertical-align: top;\n",
       "    }\n",
       "\n",
       "    .dataframe thead th {\n",
       "        text-align: right;\n",
       "    }\n",
       "</style>\n",
       "<table border=\"1\" class=\"dataframe\">\n",
       "  <thead>\n",
       "    <tr style=\"text-align: right;\">\n",
       "      <th></th>\n",
       "      <th>sex</th>\n",
       "      <th>race</th>\n",
       "      <th>hispanic</th>\n",
       "      <th>uscitzn</th>\n",
       "      <th>degree</th>\n",
       "      <th>vetyears</th>\n",
       "      <th>wrkstat</th>\n",
       "      <th>wrkslf</th>\n",
       "      <th>marital</th>\n",
       "      <th>spwrksta</th>\n",
       "      <th>...</th>\n",
       "      <th>rifle</th>\n",
       "      <th>news</th>\n",
       "      <th>racdif1</th>\n",
       "      <th>racdif2</th>\n",
       "      <th>racdif3</th>\n",
       "      <th>racdif4</th>\n",
       "      <th>helppoor</th>\n",
       "      <th>helpnot</th>\n",
       "      <th>helpsick</th>\n",
       "      <th>helpblk</th>\n",
       "    </tr>\n",
       "  </thead>\n",
       "  <tbody>\n",
       "    <tr>\n",
       "      <th>count</th>\n",
       "      <td>57061</td>\n",
       "      <td>57061</td>\n",
       "      <td>18920</td>\n",
       "      <td>770</td>\n",
       "      <td>56051</td>\n",
       "      <td>21884</td>\n",
       "      <td>57047</td>\n",
       "      <td>53549</td>\n",
       "      <td>57041</td>\n",
       "      <td>30697</td>\n",
       "      <td>...</td>\n",
       "      <td>34211</td>\n",
       "      <td>35689</td>\n",
       "      <td>24086</td>\n",
       "      <td>24421</td>\n",
       "      <td>24459</td>\n",
       "      <td>23827</td>\n",
       "      <td>20166</td>\n",
       "      <td>19072</td>\n",
       "      <td>19327</td>\n",
       "      <td>19884</td>\n",
       "    </tr>\n",
       "    <tr>\n",
       "      <th>unique</th>\n",
       "      <td>2</td>\n",
       "      <td>3</td>\n",
       "      <td>28</td>\n",
       "      <td>4</td>\n",
       "      <td>5</td>\n",
       "      <td>5</td>\n",
       "      <td>8</td>\n",
       "      <td>2</td>\n",
       "      <td>5</td>\n",
       "      <td>8</td>\n",
       "      <td>...</td>\n",
       "      <td>3</td>\n",
       "      <td>5</td>\n",
       "      <td>2</td>\n",
       "      <td>2</td>\n",
       "      <td>2</td>\n",
       "      <td>2</td>\n",
       "      <td>3</td>\n",
       "      <td>3</td>\n",
       "      <td>3</td>\n",
       "      <td>3</td>\n",
       "    </tr>\n",
       "    <tr>\n",
       "      <th>top</th>\n",
       "      <td>Female</td>\n",
       "      <td>White</td>\n",
       "      <td>Not Hispanic</td>\n",
       "      <td>Not A U.S. Citizen</td>\n",
       "      <td>High School</td>\n",
       "      <td>None</td>\n",
       "      <td>Working Fulltime</td>\n",
       "      <td>Someone Else</td>\n",
       "      <td>Married</td>\n",
       "      <td>Working Fulltime</td>\n",
       "      <td>...</td>\n",
       "      <td>No</td>\n",
       "      <td>Everyday</td>\n",
       "      <td>No</td>\n",
       "      <td>No</td>\n",
       "      <td>No</td>\n",
       "      <td>Yes</td>\n",
       "      <td>Agree With Both</td>\n",
       "      <td>Agree With Both</td>\n",
       "      <td>Agree With Both</td>\n",
       "      <td>No Special Treatment</td>\n",
       "    </tr>\n",
       "    <tr>\n",
       "      <th>freq</th>\n",
       "      <td>31915</td>\n",
       "      <td>46350</td>\n",
       "      <td>16936</td>\n",
       "      <td>378</td>\n",
       "      <td>29287</td>\n",
       "      <td>18093</td>\n",
       "      <td>28207</td>\n",
       "      <td>47352</td>\n",
       "      <td>30761</td>\n",
       "      <td>16815</td>\n",
       "      <td>...</td>\n",
       "      <td>25580</td>\n",
       "      <td>17023</td>\n",
       "      <td>14456</td>\n",
       "      <td>20987</td>\n",
       "      <td>12454</td>\n",
       "      <td>12765</td>\n",
       "      <td>12273</td>\n",
       "      <td>10874</td>\n",
       "      <td>8903</td>\n",
       "      <td>8656</td>\n",
       "    </tr>\n",
       "  </tbody>\n",
       "</table>\n",
       "<p>4 rows × 98 columns</p>\n",
       "</div>"
      ],
      "text/plain": [
       "           sex   race      hispanic             uscitzn       degree vetyears  \\\n",
       "count    57061  57061         18920                 770        56051    21884   \n",
       "unique       2      3            28                   4            5        5   \n",
       "top     Female  White  Not Hispanic  Not A U.S. Citizen  High School     None   \n",
       "freq     31915  46350         16936                 378        29287    18093   \n",
       "\n",
       "                 wrkstat        wrkslf  marital          spwrksta  \\\n",
       "count              57047         53549    57041             30697   \n",
       "unique                 8             2        5                 8   \n",
       "top     Working Fulltime  Someone Else  Married  Working Fulltime   \n",
       "freq               28207         47352    30761             16815   \n",
       "\n",
       "                ...           rifle      news racdif1 racdif2 racdif3 racdif4  \\\n",
       "count           ...           34211     35689   24086   24421   24459   23827   \n",
       "unique          ...               3         5       2       2       2       2   \n",
       "top             ...              No  Everyday      No      No      No     Yes   \n",
       "freq            ...           25580     17023   14456   20987   12454   12765   \n",
       "\n",
       "               helppoor          helpnot         helpsick  \\\n",
       "count             20166            19072            19327   \n",
       "unique                3                3                3   \n",
       "top     Agree With Both  Agree With Both  Agree With Both   \n",
       "freq              12273            10874             8903   \n",
       "\n",
       "                     helpblk  \n",
       "count                  19884  \n",
       "unique                     3  \n",
       "top     No Special Treatment  \n",
       "freq                    8656  \n",
       "\n",
       "[4 rows x 98 columns]"
      ]
     },
     "execution_count": 140,
     "metadata": {},
     "output_type": "execute_result"
    }
   ],
   "source": [
    "data.describe(include = [object])"
   ]
  },
  {
   "cell_type": "code",
   "execution_count": 141,
   "metadata": {},
   "outputs": [],
   "source": [
    "data_describe = data.describe(include = [object])\n",
    "for c in categorical_columns:\n",
    "    data[c] = data[c].fillna(data_describe[c]['top'])"
   ]
  },
  {
   "cell_type": "markdown",
   "metadata": {},
   "source": [
    "После обработки:"
   ]
  },
  {
   "cell_type": "code",
   "execution_count": 142,
   "metadata": {},
   "outputs": [
    {
     "data": {
      "text/html": [
       "<div>\n",
       "<style scoped>\n",
       "    .dataframe tbody tr th:only-of-type {\n",
       "        vertical-align: middle;\n",
       "    }\n",
       "\n",
       "    .dataframe tbody tr th {\n",
       "        vertical-align: top;\n",
       "    }\n",
       "\n",
       "    .dataframe thead th {\n",
       "        text-align: right;\n",
       "    }\n",
       "</style>\n",
       "<table border=\"1\" class=\"dataframe\">\n",
       "  <thead>\n",
       "    <tr style=\"text-align: right;\">\n",
       "      <th></th>\n",
       "      <th>sex</th>\n",
       "      <th>race</th>\n",
       "      <th>hispanic</th>\n",
       "      <th>uscitzn</th>\n",
       "      <th>degree</th>\n",
       "      <th>vetyears</th>\n",
       "      <th>wrkstat</th>\n",
       "      <th>wrkslf</th>\n",
       "      <th>marital</th>\n",
       "      <th>spwrksta</th>\n",
       "      <th>...</th>\n",
       "      <th>rifle</th>\n",
       "      <th>news</th>\n",
       "      <th>racdif1</th>\n",
       "      <th>racdif2</th>\n",
       "      <th>racdif3</th>\n",
       "      <th>racdif4</th>\n",
       "      <th>helppoor</th>\n",
       "      <th>helpnot</th>\n",
       "      <th>helpsick</th>\n",
       "      <th>helpblk</th>\n",
       "    </tr>\n",
       "  </thead>\n",
       "  <tbody>\n",
       "    <tr>\n",
       "      <th>count</th>\n",
       "      <td>57061</td>\n",
       "      <td>57061</td>\n",
       "      <td>57061</td>\n",
       "      <td>57061</td>\n",
       "      <td>57061</td>\n",
       "      <td>57061</td>\n",
       "      <td>57061</td>\n",
       "      <td>57061</td>\n",
       "      <td>57061</td>\n",
       "      <td>57061</td>\n",
       "      <td>...</td>\n",
       "      <td>57061</td>\n",
       "      <td>57061</td>\n",
       "      <td>57061</td>\n",
       "      <td>57061</td>\n",
       "      <td>57061</td>\n",
       "      <td>57061</td>\n",
       "      <td>57061</td>\n",
       "      <td>57061</td>\n",
       "      <td>57061</td>\n",
       "      <td>57061</td>\n",
       "    </tr>\n",
       "    <tr>\n",
       "      <th>unique</th>\n",
       "      <td>2</td>\n",
       "      <td>3</td>\n",
       "      <td>28</td>\n",
       "      <td>4</td>\n",
       "      <td>5</td>\n",
       "      <td>5</td>\n",
       "      <td>8</td>\n",
       "      <td>2</td>\n",
       "      <td>5</td>\n",
       "      <td>8</td>\n",
       "      <td>...</td>\n",
       "      <td>3</td>\n",
       "      <td>5</td>\n",
       "      <td>2</td>\n",
       "      <td>2</td>\n",
       "      <td>2</td>\n",
       "      <td>2</td>\n",
       "      <td>3</td>\n",
       "      <td>3</td>\n",
       "      <td>3</td>\n",
       "      <td>3</td>\n",
       "    </tr>\n",
       "    <tr>\n",
       "      <th>top</th>\n",
       "      <td>Female</td>\n",
       "      <td>White</td>\n",
       "      <td>Not Hispanic</td>\n",
       "      <td>Not A U.S. Citizen</td>\n",
       "      <td>High School</td>\n",
       "      <td>None</td>\n",
       "      <td>Working Fulltime</td>\n",
       "      <td>Someone Else</td>\n",
       "      <td>Married</td>\n",
       "      <td>Working Fulltime</td>\n",
       "      <td>...</td>\n",
       "      <td>No</td>\n",
       "      <td>Everyday</td>\n",
       "      <td>No</td>\n",
       "      <td>No</td>\n",
       "      <td>No</td>\n",
       "      <td>Yes</td>\n",
       "      <td>Agree With Both</td>\n",
       "      <td>Agree With Both</td>\n",
       "      <td>Agree With Both</td>\n",
       "      <td>No Special Treatment</td>\n",
       "    </tr>\n",
       "    <tr>\n",
       "      <th>freq</th>\n",
       "      <td>31915</td>\n",
       "      <td>46350</td>\n",
       "      <td>55077</td>\n",
       "      <td>56669</td>\n",
       "      <td>30297</td>\n",
       "      <td>53270</td>\n",
       "      <td>28221</td>\n",
       "      <td>50864</td>\n",
       "      <td>30781</td>\n",
       "      <td>43179</td>\n",
       "      <td>...</td>\n",
       "      <td>48430</td>\n",
       "      <td>38395</td>\n",
       "      <td>47431</td>\n",
       "      <td>53627</td>\n",
       "      <td>45056</td>\n",
       "      <td>45999</td>\n",
       "      <td>49168</td>\n",
       "      <td>48863</td>\n",
       "      <td>46637</td>\n",
       "      <td>45833</td>\n",
       "    </tr>\n",
       "  </tbody>\n",
       "</table>\n",
       "<p>4 rows × 98 columns</p>\n",
       "</div>"
      ],
      "text/plain": [
       "           sex   race      hispanic             uscitzn       degree vetyears  \\\n",
       "count    57061  57061         57061               57061        57061    57061   \n",
       "unique       2      3            28                   4            5        5   \n",
       "top     Female  White  Not Hispanic  Not A U.S. Citizen  High School     None   \n",
       "freq     31915  46350         55077               56669        30297    53270   \n",
       "\n",
       "                 wrkstat        wrkslf  marital          spwrksta  \\\n",
       "count              57061         57061    57061             57061   \n",
       "unique                 8             2        5                 8   \n",
       "top     Working Fulltime  Someone Else  Married  Working Fulltime   \n",
       "freq               28221         50864    30781             43179   \n",
       "\n",
       "                ...           rifle      news racdif1 racdif2 racdif3 racdif4  \\\n",
       "count           ...           57061     57061   57061   57061   57061   57061   \n",
       "unique          ...               3         5       2       2       2       2   \n",
       "top             ...              No  Everyday      No      No      No     Yes   \n",
       "freq            ...           48430     38395   47431   53627   45056   45999   \n",
       "\n",
       "               helppoor          helpnot         helpsick  \\\n",
       "count             57061            57061            57061   \n",
       "unique                3                3                3   \n",
       "top     Agree With Both  Agree With Both  Agree With Both   \n",
       "freq              49168            48863            46637   \n",
       "\n",
       "                     helpblk  \n",
       "count                  57061  \n",
       "unique                     3  \n",
       "top     No Special Treatment  \n",
       "freq                   45833  \n",
       "\n",
       "[4 rows x 98 columns]"
      ]
     },
     "execution_count": 142,
     "metadata": {},
     "output_type": "execute_result"
    }
   ],
   "source": [
    "data.describe(include = [object])"
   ]
  },
  {
   "cell_type": "markdown",
   "metadata": {},
   "source": [
    "## Векторизация\n",
    "\n",
    "Нужно что-то сделать с категориальными (номинальными) признаками"
   ]
  },
  {
   "cell_type": "code",
   "execution_count": 143,
   "metadata": {},
   "outputs": [
    {
     "name": "stdout",
     "output_type": "stream",
     "text": [
      "['sex', 'wrkslf', 'born', 'richwork', 'unemp', 'govaid', 'getaid', 'abdefect', 'abnomore', 'abhlth', 'abpoor', 'abrape', 'absingle', 'abany', 'suicide1', 'suicide2', 'suicide3', 'suicide4', 'fear', 'racdif1', 'racdif2', 'racdif3', 'racdif4'] ['race', 'hispanic', 'uscitzn', 'degree', 'vetyears', 'wrkstat', 'marital', 'spwrksta', 'incom16', 'parborn', 'income06', 'region', 'partyid', 'polviews', 'relig', 'attend', 'natspac', 'natenvir', 'natheal', 'natcity', 'natcrime', 'natdrug', 'nateduc', 'natrace', 'natarms', 'nataid', 'natfare', 'natroad', 'natsoc', 'natmass', 'natpark', 'confinan', 'conbus', 'conclerg', 'coneduc', 'confed', 'conlabor', 'conpress', 'conmedic', 'contv', 'conjudge', 'consci', 'conlegis', 'conarmy', 'joblose', 'jobfind', 'satjob', 'jobinc', 'jobsec', 'jobhour', 'jobpromo', 'jobmeans', 'satfin', 'finalter', 'finrela', 'union', 'getahead', 'parsol', 'kidssol', 'pillok', 'sexeduc', 'divlaw', 'premarsx', 'teensex', 'xmarsex', 'homosex', 'owngun', 'pistol', 'shotgun', 'rifle', 'news', 'helppoor', 'helpnot', 'helpsick', 'helpblk']\n"
     ]
    }
   ],
   "source": [
    "binary_columns    = [c for c in categorical_columns if data_describe[c]['unique'] == 2]\n",
    "nonbinary_columns = [c for c in categorical_columns if data_describe[c]['unique'] > 2]\n",
    "print(binary_columns, nonbinary_columns)"
   ]
  },
  {
   "cell_type": "code",
   "execution_count": 144,
   "metadata": {},
   "outputs": [
    {
     "data": {
      "text/plain": [
       "array(['Female', 'Male'], dtype=object)"
      ]
     },
     "execution_count": 144,
     "metadata": {},
     "output_type": "execute_result"
    }
   ],
   "source": [
    "data['sex'].unique()"
   ]
  },
  {
   "cell_type": "code",
   "execution_count": 145,
   "metadata": {},
   "outputs": [
    {
     "name": "stdout",
     "output_type": "stream",
     "text": [
      "['Female' 'Male']\n",
      "['Someone Else' 'Self-Employed']\n",
      "['Yes' 'No']\n",
      "['Continue Working' 'Stop Working']\n",
      "['No' 'Yes']\n",
      "['No' 'Yes']\n",
      "['No' 'Yes']\n",
      "['Yes' 'No']\n",
      "['Yes' 'No']\n",
      "['Yes' 'No']\n",
      "['Yes' 'No']\n",
      "['Yes' 'No']\n",
      "['Yes' 'No']\n",
      "['No' 'Yes']\n",
      "['Yes' 'No']\n",
      "['No' 'Yes']\n",
      "['No' 'Yes']\n",
      "['No' 'Yes']\n",
      "['No' 'Yes']\n",
      "['No' 'Yes']\n",
      "['No' 'Yes']\n",
      "['No' 'Yes']\n",
      "['Yes' 'No']\n"
     ]
    },
    {
     "data": {
      "text/plain": [
       "count    57061.000000\n",
       "mean         0.440686\n",
       "std          0.496474\n",
       "min          0.000000\n",
       "25%          0.000000\n",
       "50%          0.000000\n",
       "75%          1.000000\n",
       "max          1.000000\n",
       "Name: sex, dtype: float64"
      ]
     },
     "execution_count": 145,
     "metadata": {},
     "output_type": "execute_result"
    }
   ],
   "source": [
    "for name in binary_columns:\n",
    "    unq = data[name].unique()\n",
    "    print(unq)\n",
    "    data.at[data[name] == unq[0], name] = 0\n",
    "    data.at[data[name] == unq[1], name] = 1\n",
    "\n",
    "data['sex'].describe()"
   ]
  },
  {
   "cell_type": "markdown",
   "metadata": {},
   "source": [
    "### К небинарными признакам применим метод _векторизации_, \n",
    "который заключается в следующем.\n",
    "\n",
    "Признак `j`, принимающий `s` значений, заменим на `s` признаков, принимащих значения `0` или `1`,\n",
    "в зависимости от того, чему равно значение исходного признака `j`.\n",
    "\n",
    "Например, в нашей задаче признак `race` принимает 3 различных значений: "
   ]
  },
  {
   "cell_type": "code",
   "execution_count": 146,
   "metadata": {},
   "outputs": [
    {
     "data": {
      "text/plain": [
       "array(['White', 'Black', 'Other'], dtype=object)"
      ]
     },
     "execution_count": 146,
     "metadata": {},
     "output_type": "execute_result"
    }
   ],
   "source": [
    "data['race'].unique()"
   ]
  },
  {
   "cell_type": "markdown",
   "metadata": {},
   "source": [
    "Заменим признак `race` 3 признаками: `race_White`, `race_Black`, `race_Other`.\n",
    "\n",
    " - Если признак `race` принимает значение `White`, то признак `race_White` равен `1`, а все остальные равны `0`.\n",
    " - Если признак `race` принимает значение `Black`, то признак `race_Black` равен `1`, а все остальные равны `0`.\n",
    " - и т.д.\n",
    "\n",
    "Такую векторизацию осуществляет в pandas метод `get_dummies`:"
   ]
  },
  {
   "cell_type": "code",
   "execution_count": 147,
   "metadata": {},
   "outputs": [
    {
     "name": "stdout",
     "output_type": "stream",
     "text": [
      "Index(['race_Black', 'race_Other', 'race_White', 'hispanic_Argentinian',\n",
      "       'hispanic_Basque', 'hispanic_Central American', 'hispanic_Chilean',\n",
      "       'hispanic_Columbian', 'hispanic_Costa Rican', 'hispanic_Cuban',\n",
      "       ...\n",
      "       'helppoor_People Help Selves', 'helpnot_Agree With Both',\n",
      "       'helpnot_Govt Do More', 'helpnot_Govt Does Too Much',\n",
      "       'helpsick_Agree With Both', 'helpsick_Govt Should Help',\n",
      "       'helpsick_People Help Selves', 'helpblk_Agree With Both',\n",
      "       'helpblk_Govt Help Blks', 'helpblk_No Special Treatment'],\n",
      "      dtype='object', length=359)\n"
     ]
    }
   ],
   "source": [
    "data_nonbinary = pd.get_dummies(data[nonbinary_columns])\n",
    "print(data_nonbinary.columns)"
   ]
  },
  {
   "cell_type": "markdown",
   "metadata": {},
   "source": [
    "## Нормализация количественных признаков\n",
    "\n",
    "Многие алгоритмы машинного обучения чувствительны к масштабированию данных.\n",
    "К таким алгоритмам, например, относится метод ближайших соседей, машина опорных векторов и др.\n",
    "\n",
    "В этом случае количественные признаки полезно _нормализовать_.\n",
    "Это можно делать разными способами.\n",
    "Например, каждый количественный признак приведем к нулевому среднему и единичному среднеквадратичному отклонению:"
   ]
  },
  {
   "cell_type": "code",
   "execution_count": 148,
   "metadata": {},
   "outputs": [
    {
     "data": {
      "text/html": [
       "<div>\n",
       "<style scoped>\n",
       "    .dataframe tbody tr th:only-of-type {\n",
       "        vertical-align: middle;\n",
       "    }\n",
       "\n",
       "    .dataframe tbody tr th {\n",
       "        vertical-align: top;\n",
       "    }\n",
       "\n",
       "    .dataframe thead th {\n",
       "        text-align: right;\n",
       "    }\n",
       "</style>\n",
       "<table border=\"1\" class=\"dataframe\">\n",
       "  <thead>\n",
       "    <tr style=\"text-align: right;\">\n",
       "      <th></th>\n",
       "      <th>caseid</th>\n",
       "      <th>year</th>\n",
       "      <th>age</th>\n",
       "      <th>educ</th>\n",
       "      <th>paeduc</th>\n",
       "      <th>maeduc</th>\n",
       "      <th>speduc</th>\n",
       "      <th>sei</th>\n",
       "      <th>sibs</th>\n",
       "      <th>childs</th>\n",
       "      <th>agekdbrn</th>\n",
       "      <th>granborn</th>\n",
       "      <th>coninc</th>\n",
       "      <th>class</th>\n",
       "      <th>rank</th>\n",
       "      <th>tvhours</th>\n",
       "    </tr>\n",
       "  </thead>\n",
       "  <tbody>\n",
       "    <tr>\n",
       "      <th>count</th>\n",
       "      <td>57061.000000</td>\n",
       "      <td>57061.000000</td>\n",
       "      <td>57061.000000</td>\n",
       "      <td>57061.000000</td>\n",
       "      <td>57061.000000</td>\n",
       "      <td>57061.000000</td>\n",
       "      <td>57061.000000</td>\n",
       "      <td>57061.000000</td>\n",
       "      <td>57061.000000</td>\n",
       "      <td>57061.000000</td>\n",
       "      <td>57061.000000</td>\n",
       "      <td>57061.000000</td>\n",
       "      <td>57061.000000</td>\n",
       "      <td>57061.000000</td>\n",
       "      <td>57061.000000</td>\n",
       "      <td>57061.000000</td>\n",
       "    </tr>\n",
       "    <tr>\n",
       "      <th>mean</th>\n",
       "      <td>28531.000000</td>\n",
       "      <td>1992.084261</td>\n",
       "      <td>45.688404</td>\n",
       "      <td>12.751424</td>\n",
       "      <td>10.981967</td>\n",
       "      <td>10.942220</td>\n",
       "      <td>12.405145</td>\n",
       "      <td>44.165367</td>\n",
       "      <td>3.912392</td>\n",
       "      <td>1.952998</td>\n",
       "      <td>23.249943</td>\n",
       "      <td>0.910429</td>\n",
       "      <td>43593.763113</td>\n",
       "      <td>0.298540</td>\n",
       "      <td>4.960744</td>\n",
       "      <td>2.575928</td>\n",
       "    </tr>\n",
       "    <tr>\n",
       "      <th>std</th>\n",
       "      <td>16472.236192</td>\n",
       "      <td>11.724820</td>\n",
       "      <td>17.441894</td>\n",
       "      <td>3.177322</td>\n",
       "      <td>3.708438</td>\n",
       "      <td>3.431464</td>\n",
       "      <td>2.287893</td>\n",
       "      <td>14.956667</td>\n",
       "      <td>3.147643</td>\n",
       "      <td>1.788697</td>\n",
       "      <td>3.082825</td>\n",
       "      <td>1.500760</td>\n",
       "      <td>34157.581193</td>\n",
       "      <td>0.457622</td>\n",
       "      <td>0.775909</td>\n",
       "      <td>1.874340</td>\n",
       "    </tr>\n",
       "    <tr>\n",
       "      <th>min</th>\n",
       "      <td>1.000000</td>\n",
       "      <td>1972.000000</td>\n",
       "      <td>18.000000</td>\n",
       "      <td>0.000000</td>\n",
       "      <td>0.000000</td>\n",
       "      <td>0.000000</td>\n",
       "      <td>0.000000</td>\n",
       "      <td>17.100000</td>\n",
       "      <td>0.000000</td>\n",
       "      <td>0.000000</td>\n",
       "      <td>9.000000</td>\n",
       "      <td>0.000000</td>\n",
       "      <td>383.000000</td>\n",
       "      <td>0.000000</td>\n",
       "      <td>1.000000</td>\n",
       "      <td>0.000000</td>\n",
       "    </tr>\n",
       "    <tr>\n",
       "      <th>25%</th>\n",
       "      <td>14266.000000</td>\n",
       "      <td>1983.000000</td>\n",
       "      <td>31.000000</td>\n",
       "      <td>12.000000</td>\n",
       "      <td>8.000000</td>\n",
       "      <td>9.000000</td>\n",
       "      <td>12.000000</td>\n",
       "      <td>38.400002</td>\n",
       "      <td>2.000000</td>\n",
       "      <td>0.000000</td>\n",
       "      <td>23.000000</td>\n",
       "      <td>0.000000</td>\n",
       "      <td>19933.000000</td>\n",
       "      <td>0.000000</td>\n",
       "      <td>5.000000</td>\n",
       "      <td>2.000000</td>\n",
       "    </tr>\n",
       "    <tr>\n",
       "      <th>50%</th>\n",
       "      <td>28531.000000</td>\n",
       "      <td>1993.000000</td>\n",
       "      <td>43.000000</td>\n",
       "      <td>12.000000</td>\n",
       "      <td>12.000000</td>\n",
       "      <td>12.000000</td>\n",
       "      <td>12.000000</td>\n",
       "      <td>39.000000</td>\n",
       "      <td>3.000000</td>\n",
       "      <td>2.000000</td>\n",
       "      <td>23.000000</td>\n",
       "      <td>0.000000</td>\n",
       "      <td>35602.000000</td>\n",
       "      <td>0.000000</td>\n",
       "      <td>5.000000</td>\n",
       "      <td>2.000000</td>\n",
       "    </tr>\n",
       "    <tr>\n",
       "      <th>75%</th>\n",
       "      <td>42796.000000</td>\n",
       "      <td>2002.000000</td>\n",
       "      <td>59.000000</td>\n",
       "      <td>15.000000</td>\n",
       "      <td>12.000000</td>\n",
       "      <td>12.000000</td>\n",
       "      <td>12.000000</td>\n",
       "      <td>45.400002</td>\n",
       "      <td>5.000000</td>\n",
       "      <td>3.000000</td>\n",
       "      <td>23.000000</td>\n",
       "      <td>2.000000</td>\n",
       "      <td>54289.000000</td>\n",
       "      <td>1.000000</td>\n",
       "      <td>5.000000</td>\n",
       "      <td>3.000000</td>\n",
       "    </tr>\n",
       "    <tr>\n",
       "      <th>max</th>\n",
       "      <td>57061.000000</td>\n",
       "      <td>2012.000000</td>\n",
       "      <td>89.000000</td>\n",
       "      <td>20.000000</td>\n",
       "      <td>20.000000</td>\n",
       "      <td>20.000000</td>\n",
       "      <td>20.000000</td>\n",
       "      <td>97.199997</td>\n",
       "      <td>68.000000</td>\n",
       "      <td>8.000000</td>\n",
       "      <td>65.000000</td>\n",
       "      <td>4.000000</td>\n",
       "      <td>180386.000000</td>\n",
       "      <td>1.000000</td>\n",
       "      <td>10.000000</td>\n",
       "      <td>24.000000</td>\n",
       "    </tr>\n",
       "  </tbody>\n",
       "</table>\n",
       "</div>"
      ],
      "text/plain": [
       "             caseid          year           age          educ        paeduc  \\\n",
       "count  57061.000000  57061.000000  57061.000000  57061.000000  57061.000000   \n",
       "mean   28531.000000   1992.084261     45.688404     12.751424     10.981967   \n",
       "std    16472.236192     11.724820     17.441894      3.177322      3.708438   \n",
       "min        1.000000   1972.000000     18.000000      0.000000      0.000000   \n",
       "25%    14266.000000   1983.000000     31.000000     12.000000      8.000000   \n",
       "50%    28531.000000   1993.000000     43.000000     12.000000     12.000000   \n",
       "75%    42796.000000   2002.000000     59.000000     15.000000     12.000000   \n",
       "max    57061.000000   2012.000000     89.000000     20.000000     20.000000   \n",
       "\n",
       "             maeduc        speduc           sei          sibs        childs  \\\n",
       "count  57061.000000  57061.000000  57061.000000  57061.000000  57061.000000   \n",
       "mean      10.942220     12.405145     44.165367      3.912392      1.952998   \n",
       "std        3.431464      2.287893     14.956667      3.147643      1.788697   \n",
       "min        0.000000      0.000000     17.100000      0.000000      0.000000   \n",
       "25%        9.000000     12.000000     38.400002      2.000000      0.000000   \n",
       "50%       12.000000     12.000000     39.000000      3.000000      2.000000   \n",
       "75%       12.000000     12.000000     45.400002      5.000000      3.000000   \n",
       "max       20.000000     20.000000     97.199997     68.000000      8.000000   \n",
       "\n",
       "           agekdbrn      granborn         coninc         class          rank  \\\n",
       "count  57061.000000  57061.000000   57061.000000  57061.000000  57061.000000   \n",
       "mean      23.249943      0.910429   43593.763113      0.298540      4.960744   \n",
       "std        3.082825      1.500760   34157.581193      0.457622      0.775909   \n",
       "min        9.000000      0.000000     383.000000      0.000000      1.000000   \n",
       "25%       23.000000      0.000000   19933.000000      0.000000      5.000000   \n",
       "50%       23.000000      0.000000   35602.000000      0.000000      5.000000   \n",
       "75%       23.000000      2.000000   54289.000000      1.000000      5.000000   \n",
       "max       65.000000      4.000000  180386.000000      1.000000     10.000000   \n",
       "\n",
       "            tvhours  \n",
       "count  57061.000000  \n",
       "mean       2.575928  \n",
       "std        1.874340  \n",
       "min        0.000000  \n",
       "25%        2.000000  \n",
       "50%        2.000000  \n",
       "75%        3.000000  \n",
       "max       24.000000  "
      ]
     },
     "execution_count": 148,
     "metadata": {},
     "output_type": "execute_result"
    }
   ],
   "source": [
    "data_numerical = data[numerical_columns]\n",
    "data_numerical.describe()"
   ]
  },
  {
   "cell_type": "code",
   "execution_count": 149,
   "metadata": {},
   "outputs": [],
   "source": [
    "data_numerical = (data_numerical - data_numerical.mean(axis = 0))/data_numerical.std(axis = 0)"
   ]
  },
  {
   "cell_type": "code",
   "execution_count": 150,
   "metadata": {},
   "outputs": [
    {
     "data": {
      "text/html": [
       "<div>\n",
       "<style scoped>\n",
       "    .dataframe tbody tr th:only-of-type {\n",
       "        vertical-align: middle;\n",
       "    }\n",
       "\n",
       "    .dataframe tbody tr th {\n",
       "        vertical-align: top;\n",
       "    }\n",
       "\n",
       "    .dataframe thead th {\n",
       "        text-align: right;\n",
       "    }\n",
       "</style>\n",
       "<table border=\"1\" class=\"dataframe\">\n",
       "  <thead>\n",
       "    <tr style=\"text-align: right;\">\n",
       "      <th></th>\n",
       "      <th>caseid</th>\n",
       "      <th>year</th>\n",
       "      <th>age</th>\n",
       "      <th>educ</th>\n",
       "      <th>paeduc</th>\n",
       "      <th>maeduc</th>\n",
       "      <th>speduc</th>\n",
       "      <th>sei</th>\n",
       "      <th>sibs</th>\n",
       "      <th>childs</th>\n",
       "      <th>agekdbrn</th>\n",
       "      <th>granborn</th>\n",
       "      <th>coninc</th>\n",
       "      <th>class</th>\n",
       "      <th>rank</th>\n",
       "      <th>tvhours</th>\n",
       "    </tr>\n",
       "  </thead>\n",
       "  <tbody>\n",
       "    <tr>\n",
       "      <th>count</th>\n",
       "      <td>5.706100e+04</td>\n",
       "      <td>5.706100e+04</td>\n",
       "      <td>5.706100e+04</td>\n",
       "      <td>5.706100e+04</td>\n",
       "      <td>5.706100e+04</td>\n",
       "      <td>5.706100e+04</td>\n",
       "      <td>5.706100e+04</td>\n",
       "      <td>5.706100e+04</td>\n",
       "      <td>5.706100e+04</td>\n",
       "      <td>5.706100e+04</td>\n",
       "      <td>5.706100e+04</td>\n",
       "      <td>5.706100e+04</td>\n",
       "      <td>5.706100e+04</td>\n",
       "      <td>5.706100e+04</td>\n",
       "      <td>5.706100e+04</td>\n",
       "      <td>5.706100e+04</td>\n",
       "    </tr>\n",
       "    <tr>\n",
       "      <th>mean</th>\n",
       "      <td>2.288117e-17</td>\n",
       "      <td>5.571062e-14</td>\n",
       "      <td>-1.390973e-15</td>\n",
       "      <td>-1.145490e-14</td>\n",
       "      <td>3.390206e-14</td>\n",
       "      <td>-9.592714e-14</td>\n",
       "      <td>-7.173102e-14</td>\n",
       "      <td>2.951424e-13</td>\n",
       "      <td>5.667253e-16</td>\n",
       "      <td>6.362887e-15</td>\n",
       "      <td>8.212894e-15</td>\n",
       "      <td>-4.266087e-14</td>\n",
       "      <td>4.657224e-15</td>\n",
       "      <td>1.107614e-14</td>\n",
       "      <td>-1.476717e-14</td>\n",
       "      <td>5.309354e-15</td>\n",
       "    </tr>\n",
       "    <tr>\n",
       "      <th>std</th>\n",
       "      <td>1.000000e+00</td>\n",
       "      <td>1.000000e+00</td>\n",
       "      <td>1.000000e+00</td>\n",
       "      <td>1.000000e+00</td>\n",
       "      <td>1.000000e+00</td>\n",
       "      <td>1.000000e+00</td>\n",
       "      <td>1.000000e+00</td>\n",
       "      <td>1.000000e+00</td>\n",
       "      <td>1.000000e+00</td>\n",
       "      <td>1.000000e+00</td>\n",
       "      <td>1.000000e+00</td>\n",
       "      <td>1.000000e+00</td>\n",
       "      <td>1.000000e+00</td>\n",
       "      <td>1.000000e+00</td>\n",
       "      <td>1.000000e+00</td>\n",
       "      <td>1.000000e+00</td>\n",
       "    </tr>\n",
       "    <tr>\n",
       "      <th>min</th>\n",
       "      <td>-1.732005e+00</td>\n",
       "      <td>-1.712970e+00</td>\n",
       "      <td>-1.587465e+00</td>\n",
       "      <td>-4.013261e+00</td>\n",
       "      <td>-2.961345e+00</td>\n",
       "      <td>-3.188790e+00</td>\n",
       "      <td>-5.422084e+00</td>\n",
       "      <td>-1.809585e+00</td>\n",
       "      <td>-1.242959e+00</td>\n",
       "      <td>-1.091855e+00</td>\n",
       "      <td>-4.622366e+00</td>\n",
       "      <td>-6.066453e-01</td>\n",
       "      <td>-1.265042e+00</td>\n",
       "      <td>-6.523733e-01</td>\n",
       "      <td>-5.104653e+00</td>\n",
       "      <td>-1.374312e+00</td>\n",
       "    </tr>\n",
       "    <tr>\n",
       "      <th>25%</th>\n",
       "      <td>-8.660026e-01</td>\n",
       "      <td>-7.747889e-01</td>\n",
       "      <td>-8.421335e-01</td>\n",
       "      <td>-2.364960e-01</td>\n",
       "      <td>-8.041031e-01</td>\n",
       "      <td>-5.660032e-01</td>\n",
       "      <td>-1.770823e-01</td>\n",
       "      <td>-3.854712e-01</td>\n",
       "      <td>-6.075631e-01</td>\n",
       "      <td>-1.091855e+00</td>\n",
       "      <td>-8.107598e-02</td>\n",
       "      <td>-6.066453e-01</td>\n",
       "      <td>-6.926943e-01</td>\n",
       "      <td>-6.523733e-01</td>\n",
       "      <td>5.059389e-02</td>\n",
       "      <td>-3.072696e-01</td>\n",
       "    </tr>\n",
       "    <tr>\n",
       "      <th>50%</th>\n",
       "      <td>0.000000e+00</td>\n",
       "      <td>7.810263e-02</td>\n",
       "      <td>-1.541348e-01</td>\n",
       "      <td>-2.364960e-01</td>\n",
       "      <td>2.745181e-01</td>\n",
       "      <td>3.082591e-01</td>\n",
       "      <td>-1.770823e-01</td>\n",
       "      <td>-3.453555e-01</td>\n",
       "      <td>-2.898651e-01</td>\n",
       "      <td>2.627741e-02</td>\n",
       "      <td>-8.107598e-02</td>\n",
       "      <td>-6.066453e-01</td>\n",
       "      <td>-2.339675e-01</td>\n",
       "      <td>-6.523733e-01</td>\n",
       "      <td>5.059389e-02</td>\n",
       "      <td>-3.072696e-01</td>\n",
       "    </tr>\n",
       "    <tr>\n",
       "      <th>75%</th>\n",
       "      <td>8.660026e-01</td>\n",
       "      <td>8.457050e-01</td>\n",
       "      <td>7.631967e-01</td>\n",
       "      <td>7.076953e-01</td>\n",
       "      <td>2.745181e-01</td>\n",
       "      <td>3.082591e-01</td>\n",
       "      <td>-1.770823e-01</td>\n",
       "      <td>8.254748e-02</td>\n",
       "      <td>3.455309e-01</td>\n",
       "      <td>5.853435e-01</td>\n",
       "      <td>-8.107598e-02</td>\n",
       "      <td>7.260125e-01</td>\n",
       "      <td>3.131146e-01</td>\n",
       "      <td>1.532838e+00</td>\n",
       "      <td>5.059389e-02</td>\n",
       "      <td>2.262517e-01</td>\n",
       "    </tr>\n",
       "    <tr>\n",
       "      <th>max</th>\n",
       "      <td>1.732005e+00</td>\n",
       "      <td>1.698597e+00</td>\n",
       "      <td>2.483193e+00</td>\n",
       "      <td>2.281347e+00</td>\n",
       "      <td>2.431760e+00</td>\n",
       "      <td>2.639625e+00</td>\n",
       "      <td>3.319585e+00</td>\n",
       "      <td>3.545886e+00</td>\n",
       "      <td>2.036050e+01</td>\n",
       "      <td>3.380674e+00</td>\n",
       "      <td>1.354279e+01</td>\n",
       "      <td>2.058670e+00</td>\n",
       "      <td>4.004740e+00</td>\n",
       "      <td>1.532838e+00</td>\n",
       "      <td>6.494652e+00</td>\n",
       "      <td>1.143020e+01</td>\n",
       "    </tr>\n",
       "  </tbody>\n",
       "</table>\n",
       "</div>"
      ],
      "text/plain": [
       "             caseid          year           age          educ        paeduc  \\\n",
       "count  5.706100e+04  5.706100e+04  5.706100e+04  5.706100e+04  5.706100e+04   \n",
       "mean   2.288117e-17  5.571062e-14 -1.390973e-15 -1.145490e-14  3.390206e-14   \n",
       "std    1.000000e+00  1.000000e+00  1.000000e+00  1.000000e+00  1.000000e+00   \n",
       "min   -1.732005e+00 -1.712970e+00 -1.587465e+00 -4.013261e+00 -2.961345e+00   \n",
       "25%   -8.660026e-01 -7.747889e-01 -8.421335e-01 -2.364960e-01 -8.041031e-01   \n",
       "50%    0.000000e+00  7.810263e-02 -1.541348e-01 -2.364960e-01  2.745181e-01   \n",
       "75%    8.660026e-01  8.457050e-01  7.631967e-01  7.076953e-01  2.745181e-01   \n",
       "max    1.732005e+00  1.698597e+00  2.483193e+00  2.281347e+00  2.431760e+00   \n",
       "\n",
       "             maeduc        speduc           sei          sibs        childs  \\\n",
       "count  5.706100e+04  5.706100e+04  5.706100e+04  5.706100e+04  5.706100e+04   \n",
       "mean  -9.592714e-14 -7.173102e-14  2.951424e-13  5.667253e-16  6.362887e-15   \n",
       "std    1.000000e+00  1.000000e+00  1.000000e+00  1.000000e+00  1.000000e+00   \n",
       "min   -3.188790e+00 -5.422084e+00 -1.809585e+00 -1.242959e+00 -1.091855e+00   \n",
       "25%   -5.660032e-01 -1.770823e-01 -3.854712e-01 -6.075631e-01 -1.091855e+00   \n",
       "50%    3.082591e-01 -1.770823e-01 -3.453555e-01 -2.898651e-01  2.627741e-02   \n",
       "75%    3.082591e-01 -1.770823e-01  8.254748e-02  3.455309e-01  5.853435e-01   \n",
       "max    2.639625e+00  3.319585e+00  3.545886e+00  2.036050e+01  3.380674e+00   \n",
       "\n",
       "           agekdbrn      granborn        coninc         class          rank  \\\n",
       "count  5.706100e+04  5.706100e+04  5.706100e+04  5.706100e+04  5.706100e+04   \n",
       "mean   8.212894e-15 -4.266087e-14  4.657224e-15  1.107614e-14 -1.476717e-14   \n",
       "std    1.000000e+00  1.000000e+00  1.000000e+00  1.000000e+00  1.000000e+00   \n",
       "min   -4.622366e+00 -6.066453e-01 -1.265042e+00 -6.523733e-01 -5.104653e+00   \n",
       "25%   -8.107598e-02 -6.066453e-01 -6.926943e-01 -6.523733e-01  5.059389e-02   \n",
       "50%   -8.107598e-02 -6.066453e-01 -2.339675e-01 -6.523733e-01  5.059389e-02   \n",
       "75%   -8.107598e-02  7.260125e-01  3.131146e-01  1.532838e+00  5.059389e-02   \n",
       "max    1.354279e+01  2.058670e+00  4.004740e+00  1.532838e+00  6.494652e+00   \n",
       "\n",
       "            tvhours  \n",
       "count  5.706100e+04  \n",
       "mean   5.309354e-15  \n",
       "std    1.000000e+00  \n",
       "min   -1.374312e+00  \n",
       "25%   -3.072696e-01  \n",
       "50%   -3.072696e-01  \n",
       "75%    2.262517e-01  \n",
       "max    1.143020e+01  "
      ]
     },
     "execution_count": 150,
     "metadata": {},
     "output_type": "execute_result"
    }
   ],
   "source": [
    "data_numerical.describe()"
   ]
  },
  {
   "cell_type": "markdown",
   "metadata": {},
   "source": [
    "## Соединяем все в одну таблицу"
   ]
  },
  {
   "cell_type": "code",
   "execution_count": 151,
   "metadata": {},
   "outputs": [
    {
     "name": "stdout",
     "output_type": "stream",
     "text": [
      "(57061, 398)\n"
     ]
    }
   ],
   "source": [
    "data = pd.concat((data_numerical, data_nonbinary, data[binary_columns]), axis = 1)\n",
    "print(data.shape)\n",
    "#print data.columns"
   ]
  },
  {
   "cell_type": "code",
   "execution_count": 152,
   "metadata": {},
   "outputs": [
    {
     "data": {
      "text/html": [
       "<div>\n",
       "<style scoped>\n",
       "    .dataframe tbody tr th:only-of-type {\n",
       "        vertical-align: middle;\n",
       "    }\n",
       "\n",
       "    .dataframe tbody tr th {\n",
       "        vertical-align: top;\n",
       "    }\n",
       "\n",
       "    .dataframe thead th {\n",
       "        text-align: right;\n",
       "    }\n",
       "</style>\n",
       "<table border=\"1\" class=\"dataframe\">\n",
       "  <thead>\n",
       "    <tr style=\"text-align: right;\">\n",
       "      <th></th>\n",
       "      <th>caseid</th>\n",
       "      <th>year</th>\n",
       "      <th>age</th>\n",
       "      <th>educ</th>\n",
       "      <th>paeduc</th>\n",
       "      <th>maeduc</th>\n",
       "      <th>speduc</th>\n",
       "      <th>sei</th>\n",
       "      <th>sibs</th>\n",
       "      <th>childs</th>\n",
       "      <th>...</th>\n",
       "      <th>abany</th>\n",
       "      <th>suicide1</th>\n",
       "      <th>suicide2</th>\n",
       "      <th>suicide3</th>\n",
       "      <th>suicide4</th>\n",
       "      <th>fear</th>\n",
       "      <th>racdif1</th>\n",
       "      <th>racdif2</th>\n",
       "      <th>racdif3</th>\n",
       "      <th>racdif4</th>\n",
       "    </tr>\n",
       "  </thead>\n",
       "  <tbody>\n",
       "    <tr>\n",
       "      <th>count</th>\n",
       "      <td>5.706100e+04</td>\n",
       "      <td>5.706100e+04</td>\n",
       "      <td>5.706100e+04</td>\n",
       "      <td>5.706100e+04</td>\n",
       "      <td>5.706100e+04</td>\n",
       "      <td>5.706100e+04</td>\n",
       "      <td>5.706100e+04</td>\n",
       "      <td>5.706100e+04</td>\n",
       "      <td>5.706100e+04</td>\n",
       "      <td>5.706100e+04</td>\n",
       "      <td>...</td>\n",
       "      <td>57061.000000</td>\n",
       "      <td>57061.000000</td>\n",
       "      <td>57061.000000</td>\n",
       "      <td>57061.000000</td>\n",
       "      <td>57061.000000</td>\n",
       "      <td>57061.000000</td>\n",
       "      <td>57061.000000</td>\n",
       "      <td>57061.000000</td>\n",
       "      <td>57061.000000</td>\n",
       "      <td>57061.000000</td>\n",
       "    </tr>\n",
       "    <tr>\n",
       "      <th>mean</th>\n",
       "      <td>2.288117e-17</td>\n",
       "      <td>5.571062e-14</td>\n",
       "      <td>-1.390973e-15</td>\n",
       "      <td>-1.145490e-14</td>\n",
       "      <td>3.390206e-14</td>\n",
       "      <td>-9.592714e-14</td>\n",
       "      <td>-7.173102e-14</td>\n",
       "      <td>2.951424e-13</td>\n",
       "      <td>5.667253e-16</td>\n",
       "      <td>6.362887e-15</td>\n",
       "      <td>...</td>\n",
       "      <td>0.225846</td>\n",
       "      <td>0.226109</td>\n",
       "      <td>0.043410</td>\n",
       "      <td>0.044058</td>\n",
       "      <td>0.080247</td>\n",
       "      <td>0.245527</td>\n",
       "      <td>0.168767</td>\n",
       "      <td>0.060181</td>\n",
       "      <td>0.210389</td>\n",
       "      <td>0.193863</td>\n",
       "    </tr>\n",
       "    <tr>\n",
       "      <th>std</th>\n",
       "      <td>1.000000e+00</td>\n",
       "      <td>1.000000e+00</td>\n",
       "      <td>1.000000e+00</td>\n",
       "      <td>1.000000e+00</td>\n",
       "      <td>1.000000e+00</td>\n",
       "      <td>1.000000e+00</td>\n",
       "      <td>1.000000e+00</td>\n",
       "      <td>1.000000e+00</td>\n",
       "      <td>1.000000e+00</td>\n",
       "      <td>1.000000e+00</td>\n",
       "      <td>...</td>\n",
       "      <td>0.418142</td>\n",
       "      <td>0.418314</td>\n",
       "      <td>0.203779</td>\n",
       "      <td>0.205226</td>\n",
       "      <td>0.271678</td>\n",
       "      <td>0.430403</td>\n",
       "      <td>0.374549</td>\n",
       "      <td>0.237824</td>\n",
       "      <td>0.407588</td>\n",
       "      <td>0.395326</td>\n",
       "    </tr>\n",
       "    <tr>\n",
       "      <th>min</th>\n",
       "      <td>-1.732005e+00</td>\n",
       "      <td>-1.712970e+00</td>\n",
       "      <td>-1.587465e+00</td>\n",
       "      <td>-4.013261e+00</td>\n",
       "      <td>-2.961345e+00</td>\n",
       "      <td>-3.188790e+00</td>\n",
       "      <td>-5.422084e+00</td>\n",
       "      <td>-1.809585e+00</td>\n",
       "      <td>-1.242959e+00</td>\n",
       "      <td>-1.091855e+00</td>\n",
       "      <td>...</td>\n",
       "      <td>0.000000</td>\n",
       "      <td>0.000000</td>\n",
       "      <td>0.000000</td>\n",
       "      <td>0.000000</td>\n",
       "      <td>0.000000</td>\n",
       "      <td>0.000000</td>\n",
       "      <td>0.000000</td>\n",
       "      <td>0.000000</td>\n",
       "      <td>0.000000</td>\n",
       "      <td>0.000000</td>\n",
       "    </tr>\n",
       "    <tr>\n",
       "      <th>25%</th>\n",
       "      <td>-8.660026e-01</td>\n",
       "      <td>-7.747889e-01</td>\n",
       "      <td>-8.421335e-01</td>\n",
       "      <td>-2.364960e-01</td>\n",
       "      <td>-8.041031e-01</td>\n",
       "      <td>-5.660032e-01</td>\n",
       "      <td>-1.770823e-01</td>\n",
       "      <td>-3.854712e-01</td>\n",
       "      <td>-6.075631e-01</td>\n",
       "      <td>-1.091855e+00</td>\n",
       "      <td>...</td>\n",
       "      <td>0.000000</td>\n",
       "      <td>0.000000</td>\n",
       "      <td>0.000000</td>\n",
       "      <td>0.000000</td>\n",
       "      <td>0.000000</td>\n",
       "      <td>0.000000</td>\n",
       "      <td>0.000000</td>\n",
       "      <td>0.000000</td>\n",
       "      <td>0.000000</td>\n",
       "      <td>0.000000</td>\n",
       "    </tr>\n",
       "    <tr>\n",
       "      <th>50%</th>\n",
       "      <td>0.000000e+00</td>\n",
       "      <td>7.810263e-02</td>\n",
       "      <td>-1.541348e-01</td>\n",
       "      <td>-2.364960e-01</td>\n",
       "      <td>2.745181e-01</td>\n",
       "      <td>3.082591e-01</td>\n",
       "      <td>-1.770823e-01</td>\n",
       "      <td>-3.453555e-01</td>\n",
       "      <td>-2.898651e-01</td>\n",
       "      <td>2.627741e-02</td>\n",
       "      <td>...</td>\n",
       "      <td>0.000000</td>\n",
       "      <td>0.000000</td>\n",
       "      <td>0.000000</td>\n",
       "      <td>0.000000</td>\n",
       "      <td>0.000000</td>\n",
       "      <td>0.000000</td>\n",
       "      <td>0.000000</td>\n",
       "      <td>0.000000</td>\n",
       "      <td>0.000000</td>\n",
       "      <td>0.000000</td>\n",
       "    </tr>\n",
       "    <tr>\n",
       "      <th>75%</th>\n",
       "      <td>8.660026e-01</td>\n",
       "      <td>8.457050e-01</td>\n",
       "      <td>7.631967e-01</td>\n",
       "      <td>7.076953e-01</td>\n",
       "      <td>2.745181e-01</td>\n",
       "      <td>3.082591e-01</td>\n",
       "      <td>-1.770823e-01</td>\n",
       "      <td>8.254748e-02</td>\n",
       "      <td>3.455309e-01</td>\n",
       "      <td>5.853435e-01</td>\n",
       "      <td>...</td>\n",
       "      <td>0.000000</td>\n",
       "      <td>0.000000</td>\n",
       "      <td>0.000000</td>\n",
       "      <td>0.000000</td>\n",
       "      <td>0.000000</td>\n",
       "      <td>0.000000</td>\n",
       "      <td>0.000000</td>\n",
       "      <td>0.000000</td>\n",
       "      <td>0.000000</td>\n",
       "      <td>0.000000</td>\n",
       "    </tr>\n",
       "    <tr>\n",
       "      <th>max</th>\n",
       "      <td>1.732005e+00</td>\n",
       "      <td>1.698597e+00</td>\n",
       "      <td>2.483193e+00</td>\n",
       "      <td>2.281347e+00</td>\n",
       "      <td>2.431760e+00</td>\n",
       "      <td>2.639625e+00</td>\n",
       "      <td>3.319585e+00</td>\n",
       "      <td>3.545886e+00</td>\n",
       "      <td>2.036050e+01</td>\n",
       "      <td>3.380674e+00</td>\n",
       "      <td>...</td>\n",
       "      <td>1.000000</td>\n",
       "      <td>1.000000</td>\n",
       "      <td>1.000000</td>\n",
       "      <td>1.000000</td>\n",
       "      <td>1.000000</td>\n",
       "      <td>1.000000</td>\n",
       "      <td>1.000000</td>\n",
       "      <td>1.000000</td>\n",
       "      <td>1.000000</td>\n",
       "      <td>1.000000</td>\n",
       "    </tr>\n",
       "  </tbody>\n",
       "</table>\n",
       "<p>8 rows × 398 columns</p>\n",
       "</div>"
      ],
      "text/plain": [
       "             caseid          year           age          educ        paeduc  \\\n",
       "count  5.706100e+04  5.706100e+04  5.706100e+04  5.706100e+04  5.706100e+04   \n",
       "mean   2.288117e-17  5.571062e-14 -1.390973e-15 -1.145490e-14  3.390206e-14   \n",
       "std    1.000000e+00  1.000000e+00  1.000000e+00  1.000000e+00  1.000000e+00   \n",
       "min   -1.732005e+00 -1.712970e+00 -1.587465e+00 -4.013261e+00 -2.961345e+00   \n",
       "25%   -8.660026e-01 -7.747889e-01 -8.421335e-01 -2.364960e-01 -8.041031e-01   \n",
       "50%    0.000000e+00  7.810263e-02 -1.541348e-01 -2.364960e-01  2.745181e-01   \n",
       "75%    8.660026e-01  8.457050e-01  7.631967e-01  7.076953e-01  2.745181e-01   \n",
       "max    1.732005e+00  1.698597e+00  2.483193e+00  2.281347e+00  2.431760e+00   \n",
       "\n",
       "             maeduc        speduc           sei          sibs        childs  \\\n",
       "count  5.706100e+04  5.706100e+04  5.706100e+04  5.706100e+04  5.706100e+04   \n",
       "mean  -9.592714e-14 -7.173102e-14  2.951424e-13  5.667253e-16  6.362887e-15   \n",
       "std    1.000000e+00  1.000000e+00  1.000000e+00  1.000000e+00  1.000000e+00   \n",
       "min   -3.188790e+00 -5.422084e+00 -1.809585e+00 -1.242959e+00 -1.091855e+00   \n",
       "25%   -5.660032e-01 -1.770823e-01 -3.854712e-01 -6.075631e-01 -1.091855e+00   \n",
       "50%    3.082591e-01 -1.770823e-01 -3.453555e-01 -2.898651e-01  2.627741e-02   \n",
       "75%    3.082591e-01 -1.770823e-01  8.254748e-02  3.455309e-01  5.853435e-01   \n",
       "max    2.639625e+00  3.319585e+00  3.545886e+00  2.036050e+01  3.380674e+00   \n",
       "\n",
       "           ...              abany      suicide1      suicide2      suicide3  \\\n",
       "count      ...       57061.000000  57061.000000  57061.000000  57061.000000   \n",
       "mean       ...           0.225846      0.226109      0.043410      0.044058   \n",
       "std        ...           0.418142      0.418314      0.203779      0.205226   \n",
       "min        ...           0.000000      0.000000      0.000000      0.000000   \n",
       "25%        ...           0.000000      0.000000      0.000000      0.000000   \n",
       "50%        ...           0.000000      0.000000      0.000000      0.000000   \n",
       "75%        ...           0.000000      0.000000      0.000000      0.000000   \n",
       "max        ...           1.000000      1.000000      1.000000      1.000000   \n",
       "\n",
       "           suicide4          fear       racdif1       racdif2       racdif3  \\\n",
       "count  57061.000000  57061.000000  57061.000000  57061.000000  57061.000000   \n",
       "mean       0.080247      0.245527      0.168767      0.060181      0.210389   \n",
       "std        0.271678      0.430403      0.374549      0.237824      0.407588   \n",
       "min        0.000000      0.000000      0.000000      0.000000      0.000000   \n",
       "25%        0.000000      0.000000      0.000000      0.000000      0.000000   \n",
       "50%        0.000000      0.000000      0.000000      0.000000      0.000000   \n",
       "75%        0.000000      0.000000      0.000000      0.000000      0.000000   \n",
       "max        1.000000      1.000000      1.000000      1.000000      1.000000   \n",
       "\n",
       "            racdif4  \n",
       "count  57061.000000  \n",
       "mean       0.193863  \n",
       "std        0.395326  \n",
       "min        0.000000  \n",
       "25%        0.000000  \n",
       "50%        0.000000  \n",
       "75%        0.000000  \n",
       "max        1.000000  \n",
       "\n",
       "[8 rows x 398 columns]"
      ]
     },
     "execution_count": 152,
     "metadata": {},
     "output_type": "execute_result"
    }
   ],
   "source": [
    "data.describe()"
   ]
  },
  {
   "cell_type": "markdown",
   "metadata": {},
   "source": [
    "# X и y"
   ]
  },
  {
   "cell_type": "code",
   "execution_count": 153,
   "metadata": {},
   "outputs": [],
   "source": [
    "X = data.drop(('class'), axis = 1) # выбрасываем столбец 'class'\n",
    "y = data['class'].astype(int)\n",
    "feature_names = X.columns\n"
   ]
  },
  {
   "cell_type": "code",
   "execution_count": 154,
   "metadata": {},
   "outputs": [
    {
     "data": {
      "text/plain": [
       "pandas.core.indexes.base.Index"
      ]
     },
     "execution_count": 154,
     "metadata": {},
     "output_type": "execute_result"
    }
   ],
   "source": [
    "type(feature_names)"
   ]
  },
  {
   "cell_type": "code",
   "execution_count": 155,
   "metadata": {},
   "outputs": [
    {
     "data": {
      "text/plain": [
       "Index(['caseid', 'year', 'age', 'educ', 'paeduc', 'maeduc', 'speduc', 'sei',\n",
       "       'sibs', 'childs',\n",
       "       ...\n",
       "       'abany', 'suicide1', 'suicide2', 'suicide3', 'suicide4', 'fear',\n",
       "       'racdif1', 'racdif2', 'racdif3', 'racdif4'],\n",
       "      dtype='object', length=397)"
      ]
     },
     "execution_count": 155,
     "metadata": {},
     "output_type": "execute_result"
    }
   ],
   "source": [
    "feature_names"
   ]
  },
  {
   "cell_type": "code",
   "execution_count": 156,
   "metadata": {},
   "outputs": [
    {
     "name": "stdout",
     "output_type": "stream",
     "text": [
      "(57061, 397)\n",
      "(57061,)\n"
     ]
    }
   ],
   "source": [
    "print(X.shape)\n",
    "print(y.shape)\n",
    "N, d = X.shape"
   ]
  },
  {
   "cell_type": "code",
   "execution_count": 119,
   "metadata": {},
   "outputs": [
    {
     "data": {
      "text/plain": [
       "pandas.core.frame.DataFrame"
      ]
     },
     "execution_count": 119,
     "metadata": {},
     "output_type": "execute_result"
    }
   ],
   "source": [
    "type(X)"
   ]
  },
  {
   "cell_type": "code",
   "execution_count": 120,
   "metadata": {},
   "outputs": [
    {
     "data": {
      "text/plain": [
       "pandas.core.series.Series"
      ]
     },
     "execution_count": 120,
     "metadata": {},
     "output_type": "execute_result"
    }
   ],
   "source": [
    "type(y)"
   ]
  },
  {
   "cell_type": "code",
   "execution_count": 157,
   "metadata": {},
   "outputs": [
    {
     "name": "stdout",
     "output_type": "stream",
     "text": [
      "39942 17119\n"
     ]
    }
   ],
   "source": [
    "from sklearn.model_selection import train_test_split\n",
    "X_train, X_test, y_train, y_test = train_test_split(X, y, test_size = 0.3, random_state = 42)\n",
    "\n",
    "N_train, _ = X_train.shape \n",
    "N_test,  _ = X_test.shape \n",
    "\n",
    "print(N_train, N_test)"
   ]
  },
  {
   "cell_type": "code",
   "execution_count": 158,
   "metadata": {},
   "outputs": [
    {
     "data": {
      "text/plain": [
       "57061"
      ]
     },
     "execution_count": 158,
     "metadata": {},
     "output_type": "execute_result"
    }
   ],
   "source": [
    "N_train + N_test"
   ]
  },
  {
   "cell_type": "code",
   "execution_count": 122,
   "metadata": {},
   "outputs": [
    {
     "data": {
      "text/plain": [
       "0    0\n",
       "1    0\n",
       "2    0\n",
       "3    0\n",
       "4    1\n",
       "Name: class, dtype: int64"
      ]
     },
     "execution_count": 122,
     "metadata": {},
     "output_type": "execute_result"
    }
   ],
   "source": [
    "y.head()"
   ]
  },
  {
   "cell_type": "markdown",
   "metadata": {},
   "source": [
    "В библиотеке scikit-learn реализована масса алгоритмов машинного обучения.\n",
    "\n",
    "#### Некоторые алгоритмы машинного обучения, реализованные в scikit-learn:\n",
    "\n",
    " Метод                                     |  Класс\n",
    "-------------------------------------------|--------------------------------------------         \n",
    " kNN – $k$ ближайших соседей               | `sklearn.neighbors.KNeighborsClassifier`\n",
    " LDA – линейный дискриминантный анализ     | `sklearn.discriminant_analysis.LinearDiscriminantAnalysis`\n",
    " QDA – квадратичный дискриминантный анализ | `sklearn.discriminant_analysis.QuadraticDiscriminantAnalysis`\n",
    " Logistic – логистическая регрессия        | `sklearn.linear_model.LogisticRegression`\n",
    " SVC – машина опорных векторов             | `sklearn.svm.SVC`\n",
    " Tree – деревья решений                    | `sklearn.tree.DecisionTreeClassifier`\n",
    " RF – случайный лес                        | `sklearn.ensemble.RandomForestClassifier`\n",
    " ExtrRF – экстремально случайный лес       | ` `\n",
    " AdaBoost – алгоритм AdaBoost              | `sklearn.ensemble.AdaBoostClassifier`\n",
    " GBT – градиентный бустинг деревьев решений| `sklearn.ensemble.GradientBoostingClassifier`\n",
    " Нейронные сети                            | ` `\n",
    " \n",
    "\n",
    "\n",
    "\n",
    "#### Основные методы классов, реализующих алгоритмы машинного обучения\n",
    "Все алгоритмы выполнены в виде классов, обладающих по крайней мере следующими методами:\n",
    "\n",
    "\n",
    "\n",
    "   Метод класса            |  Описание     \n",
    " --------------------------|-------------------------------------------------------------\n",
    "  `fit(X_train, y_train)`              |  обучение (тренировка) модели на обучающей выборке `X_train`, `y_train`\n",
    "  `predict(X)`             |  предсказание на данных `X`\n",
    "  `set_params(**params)`   |  установка параметров алгоритма\n",
    "  `get_params()`           |  чтение параметров алгоритма\n",
    " \n",
    " Заметим, что параметры алгоритмов обучения можно задавать как в конструкторе класса, так и с помощью метода `set_params(**params)`.\n",
    " \n",
    " #### Таблица наличия/отсутствия методов для основных алгоритмов машинного обучения:\n",
    " \n",
    "    \n",
    "   Методы класса               | kNN | LDA | QDA | Logistic | SVC | Tree | RF | AdaBoost | GBT     \n",
    " ------------------------------|-----|-----|-----|----------|-----|------|----|----------|------\n",
    "  `fit(X, y)`                  |  +  |  +  |  +  |    +     |  +  |  +   | +  |    +     |  +\n",
    "  `predict(X)`                 |  +  |  +  |  +  |    +     |  +  |  +   | +  |    +     |  +\n",
    "  `predict_proba(X)`           |  +  |  +  |  +  |    +     |     |  +   | +  |    +     |  +\n",
    "  `predict_log_proba(X)`       |     |  +  |  +  |    +     |     |  +   | +  |    +     |  +\n",
    "  `score(X, y)`                |  +  |  +  |  +  |    +     |  +  |  +   | +  |    +     |  +\n",
    "  `decision_function(X)`       |     |  +  |  +  |    +     |  +  |      |    |    +     |  +\n",
    "  `transform(X)`               |     |  +  |     |    +     |     |  +   | +  |          |  +\n",
    "  `staged_decision_function(X)`|     |     |     |          |     |      |    |    +     |  +    \n",
    "  `staged_predict(X)`          |     |     |     |          |     |      |    |    +     |  +\n",
    "  `staged_predict_proba(X)`    |     |     |     |          |     |      |    |    +     |  +\n",
    "  `staged_score(X, y)`         |     |     |     |          |     |      |    |    +     |  +\n",
    "  `set_params(**params)`       |  +  |  +  |  +  |    +     |  +  |  +   | +  |    +     |  +\n",
    "  `get_params()`               |  +  |  +  |  +  |    +     |  +  |  +   | +  |    +     |  +\n",
    "    \n",
    "    "
   ]
  },
  {
   "cell_type": "markdown",
   "metadata": {},
   "source": [
    "# $k$NN"
   ]
  },
  {
   "cell_type": "code",
   "execution_count": 159,
   "metadata": {},
   "outputs": [
    {
     "data": {
      "text/plain": [
       "KNeighborsClassifier(algorithm='auto', leaf_size=30, metric='minkowski',\n",
       "           metric_params=None, n_jobs=1, n_neighbors=10, p=2,\n",
       "           weights='uniform')"
      ]
     },
     "execution_count": 159,
     "metadata": {},
     "output_type": "execute_result"
    }
   ],
   "source": [
    "from sklearn.neighbors import KNeighborsClassifier\n",
    "\n",
    "knn = KNeighborsClassifier(n_neighbors = 10)\n",
    "#knn.set_params(n_neighbors=10)\n",
    "knn.fit(X_train, y_train)"
   ]
  },
  {
   "cell_type": "code",
   "execution_count": 160,
   "metadata": {},
   "outputs": [
    {
     "data": {
      "text/plain": [
       "KNeighborsClassifier(algorithm='auto', leaf_size=30, metric='minkowski',\n",
       "           metric_params=None, n_jobs=1, n_neighbors=10, p=2,\n",
       "           weights='uniform')"
      ]
     },
     "execution_count": 160,
     "metadata": {},
     "output_type": "execute_result"
    }
   ],
   "source": [
    "knn"
   ]
  },
  {
   "cell_type": "code",
   "execution_count": 161,
   "metadata": {},
   "outputs": [
    {
     "name": "stdout",
     "output_type": "stream",
     "text": [
      "0.11742025937609533 0.14352473859454407\n"
     ]
    }
   ],
   "source": [
    "y_train_predict = knn.predict(X_train)\n",
    "y_test_predict = knn.predict(X_test)\n",
    "\n",
    "err_train = np.mean(y_train != y_train_predict)\n",
    "err_test  = np.mean(y_test  != y_test_predict)\n",
    "\n",
    "print(err_train, err_test)"
   ]
  },
  {
   "cell_type": "code",
   "execution_count": 162,
   "metadata": {},
   "outputs": [],
   "source": [
    "err_test = 1 - knn.score(X_test, y_test) # Другой способ"
   ]
  },
  {
   "cell_type": "code",
   "execution_count": 163,
   "metadata": {},
   "outputs": [
    {
     "data": {
      "text/plain": [
       "0.14352473859454407"
      ]
     },
     "execution_count": 163,
     "metadata": {},
     "output_type": "execute_result"
    }
   ],
   "source": [
    "err_test"
   ]
  },
  {
   "cell_type": "markdown",
   "metadata": {},
   "source": [
    "Ошибка на обучающей выборке 0.11, а ошибка на тестовой выборке 0.14. Это наверно можно улучшить подбирая другой параметр k, или другой алгоритм обучения."
   ]
  },
  {
   "cell_type": "code",
   "execution_count": 164,
   "metadata": {},
   "outputs": [
    {
     "name": "stdout",
     "output_type": "stream",
     "text": [
      "[[11644   386]\n",
      " [ 2071  3018]]\n"
     ]
    }
   ],
   "source": [
    "from sklearn.metrics import confusion_matrix\n",
    "\n",
    "print(confusion_matrix(y_test, y_test_predict))"
   ]
  },
  {
   "cell_type": "code",
   "execution_count": 166,
   "metadata": {},
   "outputs": [
    {
     "data": {
      "text/plain": [
       "array([[3, 0],\n",
       "       [1, 2]])"
      ]
     },
     "execution_count": 166,
     "metadata": {},
     "output_type": "execute_result"
    }
   ],
   "source": [
    "confusion_matrix([0,1,0,1,0,1], [0,1,0,0,0,1])"
   ]
  },
  {
   "cell_type": "markdown",
   "metadata": {},
   "source": [
    "Правильно предсказано 11644 принадлежащих классу зарабатывающих меньше 50000 в год (класс 0), и 3018 зарабатывающих больше (класс 1). 2071 случай когда предсказано класс 0, но эти люди зарабатывают больше, и 386 обратных случаев."
   ]
  },
  {
   "cell_type": "markdown",
   "metadata": {},
   "source": [
    "### Подбор параметров"
   ]
  },
  {
   "cell_type": "markdown",
   "metadata": {},
   "source": [
    "Узнаём  для какого k, тестовая ошибка наименьшая. Построим график зависимости ошибок (на обучающей выборке и на тестовой выборке), от гиперпараметра k."
   ]
  },
  {
   "cell_type": "code",
   "execution_count": 191,
   "metadata": {},
   "outputs": [],
   "source": [
    "def try_k(k):\n",
    "    print(k)\n",
    "    knn = KNeighborsClassifier(n_neighbors = k)\n",
    "    #knn.set_params(n_neighbors=10)\n",
    "    knn.fit(X_train, y_train)\n",
    "    return (1 - knn.score(X_train, y_train), 1 - knn.score(X_test, y_test))"
   ]
  },
  {
   "cell_type": "code",
   "execution_count": 190,
   "metadata": {},
   "outputs": [
    {
     "data": {
      "text/plain": [
       "[<matplotlib.lines.Line2D at 0x1271c87b8>]"
      ]
     },
     "execution_count": 190,
     "metadata": {},
     "output_type": "execute_result"
    },
    {
     "data": {
      "image/png": "[encoded data removed]",
      "text/plain": [
       "<Figure size 432x288 with 1 Axes>"
      ]
     },
     "metadata": {},
     "output_type": "display_data"
    }
   ],
   "source": [
    "ks = [1, 3, 6, 10, 13, 16, 20, 23]\n",
    "results_for_k = [try_k(k) for k in ks]\n",
    "plt.plot(ks, [r[0] for r in results_for_k], color=\"r\")\n",
    "plt.plot(ks, [r[1] for r in results_for_k], color=\"b\")"
   ]
  },
  {
   "cell_type": "code",
   "execution_count": 195,
   "metadata": {},
   "outputs": [
    {
     "name": "stdout",
     "output_type": "stream",
     "text": [
      "16\n",
      "(0.11909769165289674, 0.13622291021671828)\n",
      "23\n",
      "(0.11609333533623756, 0.12845376482271165)\n"
     ]
    }
   ],
   "source": [
    "print(try_k(16))\n",
    "print(try_k(23))"
   ]
  },
  {
   "cell_type": "markdown",
   "metadata": {},
   "source": [
    "Красная линия, это ошибка на обучающей выборке. Синяя линия, это ошибка на тестовой выборке. Как возрастает k, так ошибки сходятся. У нас локальный минимум ошибки на обучающей выборке когда k=13, на промежутке от 20 до 23 снова начинают убывать. А на тестовой выборке, локальный минимум k=23. Поэтому, посмотрим что будет дальше (это длиться очень долго :( я добавил принты чтобы знать сколько ёще осталось)."
   ]
  },
  {
   "cell_type": "code",
   "execution_count": 192,
   "metadata": {},
   "outputs": [
    {
     "name": "stdout",
     "output_type": "stream",
     "text": [
      "25\n",
      "30\n",
      "35\n",
      "40\n",
      "45\n"
     ]
    },
    {
     "data": {
      "text/plain": [
       "[<matplotlib.lines.Line2D at 0x128848e48>]"
      ]
     },
     "execution_count": 192,
     "metadata": {},
     "output_type": "execute_result"
    },
    {
     "data": {
      "image/png": "[encoded data removed]",
      "text/plain": [
       "<Figure size 432x288 with 1 Axes>"
      ]
     },
     "metadata": {},
     "output_type": "display_data"
    }
   ],
   "source": [
    "ks = [25, 30, 35, 40, 45]\n",
    "results_for_k = [try_k(k) for k in ks]\n",
    "plt.plot(ks, [r[0] for r in results_for_k], color=\"r\")\n",
    "plt.plot(ks, [r[1] for r in results_for_k], color=\"b\")"
   ]
  },
  {
   "cell_type": "code",
   "execution_count": 193,
   "metadata": {},
   "outputs": [
    {
     "data": {
      "text/plain": [
       "[(0.11721996895498477, 0.1298557158712541),\n",
       " (0.12480596865454907, 0.1348209591681757),\n",
       " (0.12280306444344302, 0.13032303288743496),\n",
       " (0.12776025236593058, 0.1338279105087914),\n",
       " (0.12425516999649489, 0.1314913254278871)]"
      ]
     },
     "execution_count": 193,
     "metadata": {},
     "output_type": "execute_result"
    }
   ],
   "source": [
    "results_for_k"
   ]
  },
  {
   "cell_type": "markdown",
   "metadata": {},
   "source": [
    "Попробуем найти лучший k, около локального минимума которого мы уже нашли, используя перекрестную проверку (это тоже потребует времени, но надеюсь меньше). Могли бы также искать лучше k, около 16, но вряд ли разница будет значительной."
   ]
  },
  {
   "cell_type": "code",
   "execution_count": 198,
   "metadata": {},
   "outputs": [
    {
     "name": "stdout",
     "output_type": "stream",
     "text": [
      "0.13164087927494872 23\n"
     ]
    }
   ],
   "source": [
    "# Долго!\n",
    "from sklearn.model_selection import GridSearchCV\n",
    "nnb = [22, 23, 24]\n",
    "knn = KNeighborsClassifier()\n",
    "grid = GridSearchCV(knn, param_grid = {'n_neighbors': nnb}, cv=5)\n",
    "grid.fit(X_train, y_train)\n",
    "\n",
    "best_cv_err = 1 - grid.best_score_\n",
    "best_n_neighbors = grid.best_estimator_.n_neighbors\n",
    "print(best_cv_err, best_n_neighbors)"
   ]
  },
  {
   "cell_type": "code",
   "execution_count": 199,
   "metadata": {},
   "outputs": [
    {
     "name": "stdout",
     "output_type": "stream",
     "text": [
      "0.11609333533623754 0.12845376482271162\n"
     ]
    }
   ],
   "source": [
    "knn = KNeighborsClassifier(n_neighbors = best_n_neighbors).fit(X_train, y_train)\n",
    "\n",
    "err_train = np.mean(y_train != knn.predict(X_train))\n",
    "err_test  = np.mean(y_test  != knn.predict(X_test))\n",
    "\n",
    "print(err_train, err_test)"
   ]
  },
  {
   "cell_type": "markdown",
   "metadata": {},
   "source": [
    "Для k=23, наименьшая ошибка на тестовой выборке."
   ]
  },
  {
   "cell_type": "code",
   "execution_count": null,
   "metadata": {},
   "outputs": [],
   "source": []
  },
  {
   "cell_type": "code",
   "execution_count": null,
   "metadata": {},
   "outputs": [],
   "source": []
  },
  {
   "cell_type": "code",
   "execution_count": null,
   "metadata": {},
   "outputs": [],
   "source": []
  },
  {
   "cell_type": "code",
   "execution_count": null,
   "metadata": {},
   "outputs": [],
   "source": []
  },
  {
   "cell_type": "code",
   "execution_count": null,
   "metadata": {},
   "outputs": [],
   "source": []
  },
  {
   "cell_type": "code",
   "execution_count": null,
   "metadata": {},
   "outputs": [],
   "source": []
  },
  {
   "cell_type": "code",
   "execution_count": null,
   "metadata": {},
   "outputs": [],
   "source": []
  },
  {
   "cell_type": "code",
   "execution_count": null,
   "metadata": {},
   "outputs": [],
   "source": []
  },
  {
   "cell_type": "code",
   "execution_count": null,
   "metadata": {},
   "outputs": [],
   "source": []
  },
  {
   "cell_type": "code",
   "execution_count": null,
   "metadata": {},
   "outputs": [],
   "source": []
  },
  {
   "cell_type": "code",
   "execution_count": null,
   "metadata": {},
   "outputs": [],
   "source": []
  },
  {
   "cell_type": "code",
   "execution_count": null,
   "metadata": {},
   "outputs": [],
   "source": []
  },
  {
   "cell_type": "code",
   "execution_count": null,
   "metadata": {},
   "outputs": [],
   "source": []
  },
  {
   "cell_type": "code",
   "execution_count": null,
   "metadata": {},
   "outputs": [],
   "source": []
  },
  {
   "cell_type": "code",
   "execution_count": null,
   "metadata": {},
   "outputs": [],
   "source": []
  },
  {
   "cell_type": "code",
   "execution_count": null,
   "metadata": {},
   "outputs": [],
   "source": []
  }
 ],
 "metadata": {
  "kernelspec": {
   "display_name": "Python 3",
   "language": "python",
   "name": "python3"
  },
  "language_info": {
   "codemirror_mode": {
    "name": "ipython",
    "version": 3
   },
   "file_extension": ".py",
   "mimetype": "text/x-python",
   "name": "python",
   "nbconvert_exporter": "python",
   "pygments_lexer": "ipython3",
   "version": "3.6.5"
  }
 },
 "nbformat": 4,
 "nbformat_minor": 1
}
